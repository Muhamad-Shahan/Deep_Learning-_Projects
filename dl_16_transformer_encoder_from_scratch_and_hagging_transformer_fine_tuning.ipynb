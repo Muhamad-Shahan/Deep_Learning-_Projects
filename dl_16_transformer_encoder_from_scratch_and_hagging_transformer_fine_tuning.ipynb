{
  "nbformat": 4,
  "nbformat_minor": 0,
  "metadata": {
    "colab": {
      "provenance": [],
      "authorship_tag": "ABX9TyOYTpqLkhhgT3Wvgf9sG1oA",
      "include_colab_link": true
    },
    "kernelspec": {
      "name": "python3",
      "display_name": "Python 3"
    },
    "language_info": {
      "name": "python"
    },
    "widgets": {
      "application/vnd.jupyter.widget-state+json": {
        "b591c89babf34b638f396a81f4504d86": {
          "model_module": "@jupyter-widgets/controls",
          "model_name": "VBoxModel",
          "model_module_version": "1.5.0",
          "state": {
            "_dom_classes": [],
            "_model_module": "@jupyter-widgets/controls",
            "_model_module_version": "1.5.0",
            "_model_name": "VBoxModel",
            "_view_count": null,
            "_view_module": "@jupyter-widgets/controls",
            "_view_module_version": "1.5.0",
            "_view_name": "VBoxView",
            "box_style": "",
            "children": [
              "IPY_MODEL_f0d020894f574ac09fd60955d03bedc4",
              "IPY_MODEL_0971c0091f1a4a15af1de95b6a7330fc"
            ],
            "layout": "IPY_MODEL_1b69a7051b6d4331b1369d8231565dbf"
          }
        },
        "f0d020894f574ac09fd60955d03bedc4": {
          "model_module": "@jupyter-widgets/controls",
          "model_name": "LabelModel",
          "model_module_version": "1.5.0",
          "state": {
            "_dom_classes": [],
            "_model_module": "@jupyter-widgets/controls",
            "_model_module_version": "1.5.0",
            "_model_name": "LabelModel",
            "_view_count": null,
            "_view_module": "@jupyter-widgets/controls",
            "_view_module_version": "1.5.0",
            "_view_name": "LabelView",
            "description": "",
            "description_tooltip": null,
            "layout": "IPY_MODEL_9a07bbc56b4b4bf8b7bccee9535a306d",
            "placeholder": "​",
            "style": "IPY_MODEL_c201b92da2384c9a986de91ed3f25d3a",
            "value": "0.162 MB of 0.162 MB uploaded\r"
          }
        },
        "0971c0091f1a4a15af1de95b6a7330fc": {
          "model_module": "@jupyter-widgets/controls",
          "model_name": "FloatProgressModel",
          "model_module_version": "1.5.0",
          "state": {
            "_dom_classes": [],
            "_model_module": "@jupyter-widgets/controls",
            "_model_module_version": "1.5.0",
            "_model_name": "FloatProgressModel",
            "_view_count": null,
            "_view_module": "@jupyter-widgets/controls",
            "_view_module_version": "1.5.0",
            "_view_name": "ProgressView",
            "bar_style": "",
            "description": "",
            "description_tooltip": null,
            "layout": "IPY_MODEL_ac3dd5100bd744bca3367131426db660",
            "max": 1,
            "min": 0,
            "orientation": "horizontal",
            "style": "IPY_MODEL_3f4edb31209543ba9cfd80c73b47de8b",
            "value": 1
          }
        },
        "1b69a7051b6d4331b1369d8231565dbf": {
          "model_module": "@jupyter-widgets/base",
          "model_name": "LayoutModel",
          "model_module_version": "1.2.0",
          "state": {
            "_model_module": "@jupyter-widgets/base",
            "_model_module_version": "1.2.0",
            "_model_name": "LayoutModel",
            "_view_count": null,
            "_view_module": "@jupyter-widgets/base",
            "_view_module_version": "1.2.0",
            "_view_name": "LayoutView",
            "align_content": null,
            "align_items": null,
            "align_self": null,
            "border": null,
            "bottom": null,
            "display": null,
            "flex": null,
            "flex_flow": null,
            "grid_area": null,
            "grid_auto_columns": null,
            "grid_auto_flow": null,
            "grid_auto_rows": null,
            "grid_column": null,
            "grid_gap": null,
            "grid_row": null,
            "grid_template_areas": null,
            "grid_template_columns": null,
            "grid_template_rows": null,
            "height": null,
            "justify_content": null,
            "justify_items": null,
            "left": null,
            "margin": null,
            "max_height": null,
            "max_width": null,
            "min_height": null,
            "min_width": null,
            "object_fit": null,
            "object_position": null,
            "order": null,
            "overflow": null,
            "overflow_x": null,
            "overflow_y": null,
            "padding": null,
            "right": null,
            "top": null,
            "visibility": null,
            "width": null
          }
        },
        "9a07bbc56b4b4bf8b7bccee9535a306d": {
          "model_module": "@jupyter-widgets/base",
          "model_name": "LayoutModel",
          "model_module_version": "1.2.0",
          "state": {
            "_model_module": "@jupyter-widgets/base",
            "_model_module_version": "1.2.0",
            "_model_name": "LayoutModel",
            "_view_count": null,
            "_view_module": "@jupyter-widgets/base",
            "_view_module_version": "1.2.0",
            "_view_name": "LayoutView",
            "align_content": null,
            "align_items": null,
            "align_self": null,
            "border": null,
            "bottom": null,
            "display": null,
            "flex": null,
            "flex_flow": null,
            "grid_area": null,
            "grid_auto_columns": null,
            "grid_auto_flow": null,
            "grid_auto_rows": null,
            "grid_column": null,
            "grid_gap": null,
            "grid_row": null,
            "grid_template_areas": null,
            "grid_template_columns": null,
            "grid_template_rows": null,
            "height": null,
            "justify_content": null,
            "justify_items": null,
            "left": null,
            "margin": null,
            "max_height": null,
            "max_width": null,
            "min_height": null,
            "min_width": null,
            "object_fit": null,
            "object_position": null,
            "order": null,
            "overflow": null,
            "overflow_x": null,
            "overflow_y": null,
            "padding": null,
            "right": null,
            "top": null,
            "visibility": null,
            "width": null
          }
        },
        "c201b92da2384c9a986de91ed3f25d3a": {
          "model_module": "@jupyter-widgets/controls",
          "model_name": "DescriptionStyleModel",
          "model_module_version": "1.5.0",
          "state": {
            "_model_module": "@jupyter-widgets/controls",
            "_model_module_version": "1.5.0",
            "_model_name": "DescriptionStyleModel",
            "_view_count": null,
            "_view_module": "@jupyter-widgets/base",
            "_view_module_version": "1.2.0",
            "_view_name": "StyleView",
            "description_width": ""
          }
        },
        "ac3dd5100bd744bca3367131426db660": {
          "model_module": "@jupyter-widgets/base",
          "model_name": "LayoutModel",
          "model_module_version": "1.2.0",
          "state": {
            "_model_module": "@jupyter-widgets/base",
            "_model_module_version": "1.2.0",
            "_model_name": "LayoutModel",
            "_view_count": null,
            "_view_module": "@jupyter-widgets/base",
            "_view_module_version": "1.2.0",
            "_view_name": "LayoutView",
            "align_content": null,
            "align_items": null,
            "align_self": null,
            "border": null,
            "bottom": null,
            "display": null,
            "flex": null,
            "flex_flow": null,
            "grid_area": null,
            "grid_auto_columns": null,
            "grid_auto_flow": null,
            "grid_auto_rows": null,
            "grid_column": null,
            "grid_gap": null,
            "grid_row": null,
            "grid_template_areas": null,
            "grid_template_columns": null,
            "grid_template_rows": null,
            "height": null,
            "justify_content": null,
            "justify_items": null,
            "left": null,
            "margin": null,
            "max_height": null,
            "max_width": null,
            "min_height": null,
            "min_width": null,
            "object_fit": null,
            "object_position": null,
            "order": null,
            "overflow": null,
            "overflow_x": null,
            "overflow_y": null,
            "padding": null,
            "right": null,
            "top": null,
            "visibility": null,
            "width": null
          }
        },
        "3f4edb31209543ba9cfd80c73b47de8b": {
          "model_module": "@jupyter-widgets/controls",
          "model_name": "ProgressStyleModel",
          "model_module_version": "1.5.0",
          "state": {
            "_model_module": "@jupyter-widgets/controls",
            "_model_module_version": "1.5.0",
            "_model_name": "ProgressStyleModel",
            "_view_count": null,
            "_view_module": "@jupyter-widgets/base",
            "_view_module_version": "1.2.0",
            "_view_name": "StyleView",
            "bar_color": null,
            "description_width": ""
          }
        },
        "ab5548f67ee7496a8d25d27748604278": {
          "model_module": "@jupyter-widgets/controls",
          "model_name": "HBoxModel",
          "model_module_version": "1.5.0",
          "state": {
            "_dom_classes": [],
            "_model_module": "@jupyter-widgets/controls",
            "_model_module_version": "1.5.0",
            "_model_name": "HBoxModel",
            "_view_count": null,
            "_view_module": "@jupyter-widgets/controls",
            "_view_module_version": "1.5.0",
            "_view_name": "HBoxView",
            "box_style": "",
            "children": [
              "IPY_MODEL_62f01cccbd3c4d8f98983f1908a86811",
              "IPY_MODEL_d20f1df667e84733a6da6bb1ddc080f9",
              "IPY_MODEL_d371597896b341bba024f2f93485db97"
            ],
            "layout": "IPY_MODEL_09de395e803e44b489efadf2837d8357"
          }
        },
        "62f01cccbd3c4d8f98983f1908a86811": {
          "model_module": "@jupyter-widgets/controls",
          "model_name": "HTMLModel",
          "model_module_version": "1.5.0",
          "state": {
            "_dom_classes": [],
            "_model_module": "@jupyter-widgets/controls",
            "_model_module_version": "1.5.0",
            "_model_name": "HTMLModel",
            "_view_count": null,
            "_view_module": "@jupyter-widgets/controls",
            "_view_module_version": "1.5.0",
            "_view_name": "HTMLView",
            "description": "",
            "description_tooltip": null,
            "layout": "IPY_MODEL_04eb623021a14af186599e82e1fc8652",
            "placeholder": "​",
            "style": "IPY_MODEL_8d77baf4d1ec44eb91a6644aed20772d",
            "value": "config.json: 100%"
          }
        },
        "d20f1df667e84733a6da6bb1ddc080f9": {
          "model_module": "@jupyter-widgets/controls",
          "model_name": "FloatProgressModel",
          "model_module_version": "1.5.0",
          "state": {
            "_dom_classes": [],
            "_model_module": "@jupyter-widgets/controls",
            "_model_module_version": "1.5.0",
            "_model_name": "FloatProgressModel",
            "_view_count": null,
            "_view_module": "@jupyter-widgets/controls",
            "_view_module_version": "1.5.0",
            "_view_name": "ProgressView",
            "bar_style": "success",
            "description": "",
            "description_tooltip": null,
            "layout": "IPY_MODEL_ae0cf7f2a0604e7093eb35d46fa327d9",
            "max": 502,
            "min": 0,
            "orientation": "horizontal",
            "style": "IPY_MODEL_d8e9eebcb4974439a21182a89c33a2a5",
            "value": 502
          }
        },
        "d371597896b341bba024f2f93485db97": {
          "model_module": "@jupyter-widgets/controls",
          "model_name": "HTMLModel",
          "model_module_version": "1.5.0",
          "state": {
            "_dom_classes": [],
            "_model_module": "@jupyter-widgets/controls",
            "_model_module_version": "1.5.0",
            "_model_name": "HTMLModel",
            "_view_count": null,
            "_view_module": "@jupyter-widgets/controls",
            "_view_module_version": "1.5.0",
            "_view_name": "HTMLView",
            "description": "",
            "description_tooltip": null,
            "layout": "IPY_MODEL_75162178a443465b96ca67a6716fed82",
            "placeholder": "​",
            "style": "IPY_MODEL_9df10787e2a94692b1ba26cc175eae3c",
            "value": " 502/502 [00:00&lt;00:00, 20.1kB/s]"
          }
        },
        "09de395e803e44b489efadf2837d8357": {
          "model_module": "@jupyter-widgets/base",
          "model_name": "LayoutModel",
          "model_module_version": "1.2.0",
          "state": {
            "_model_module": "@jupyter-widgets/base",
            "_model_module_version": "1.2.0",
            "_model_name": "LayoutModel",
            "_view_count": null,
            "_view_module": "@jupyter-widgets/base",
            "_view_module_version": "1.2.0",
            "_view_name": "LayoutView",
            "align_content": null,
            "align_items": null,
            "align_self": null,
            "border": null,
            "bottom": null,
            "display": null,
            "flex": null,
            "flex_flow": null,
            "grid_area": null,
            "grid_auto_columns": null,
            "grid_auto_flow": null,
            "grid_auto_rows": null,
            "grid_column": null,
            "grid_gap": null,
            "grid_row": null,
            "grid_template_areas": null,
            "grid_template_columns": null,
            "grid_template_rows": null,
            "height": null,
            "justify_content": null,
            "justify_items": null,
            "left": null,
            "margin": null,
            "max_height": null,
            "max_width": null,
            "min_height": null,
            "min_width": null,
            "object_fit": null,
            "object_position": null,
            "order": null,
            "overflow": null,
            "overflow_x": null,
            "overflow_y": null,
            "padding": null,
            "right": null,
            "top": null,
            "visibility": null,
            "width": null
          }
        },
        "04eb623021a14af186599e82e1fc8652": {
          "model_module": "@jupyter-widgets/base",
          "model_name": "LayoutModel",
          "model_module_version": "1.2.0",
          "state": {
            "_model_module": "@jupyter-widgets/base",
            "_model_module_version": "1.2.0",
            "_model_name": "LayoutModel",
            "_view_count": null,
            "_view_module": "@jupyter-widgets/base",
            "_view_module_version": "1.2.0",
            "_view_name": "LayoutView",
            "align_content": null,
            "align_items": null,
            "align_self": null,
            "border": null,
            "bottom": null,
            "display": null,
            "flex": null,
            "flex_flow": null,
            "grid_area": null,
            "grid_auto_columns": null,
            "grid_auto_flow": null,
            "grid_auto_rows": null,
            "grid_column": null,
            "grid_gap": null,
            "grid_row": null,
            "grid_template_areas": null,
            "grid_template_columns": null,
            "grid_template_rows": null,
            "height": null,
            "justify_content": null,
            "justify_items": null,
            "left": null,
            "margin": null,
            "max_height": null,
            "max_width": null,
            "min_height": null,
            "min_width": null,
            "object_fit": null,
            "object_position": null,
            "order": null,
            "overflow": null,
            "overflow_x": null,
            "overflow_y": null,
            "padding": null,
            "right": null,
            "top": null,
            "visibility": null,
            "width": null
          }
        },
        "8d77baf4d1ec44eb91a6644aed20772d": {
          "model_module": "@jupyter-widgets/controls",
          "model_name": "DescriptionStyleModel",
          "model_module_version": "1.5.0",
          "state": {
            "_model_module": "@jupyter-widgets/controls",
            "_model_module_version": "1.5.0",
            "_model_name": "DescriptionStyleModel",
            "_view_count": null,
            "_view_module": "@jupyter-widgets/base",
            "_view_module_version": "1.2.0",
            "_view_name": "StyleView",
            "description_width": ""
          }
        },
        "ae0cf7f2a0604e7093eb35d46fa327d9": {
          "model_module": "@jupyter-widgets/base",
          "model_name": "LayoutModel",
          "model_module_version": "1.2.0",
          "state": {
            "_model_module": "@jupyter-widgets/base",
            "_model_module_version": "1.2.0",
            "_model_name": "LayoutModel",
            "_view_count": null,
            "_view_module": "@jupyter-widgets/base",
            "_view_module_version": "1.2.0",
            "_view_name": "LayoutView",
            "align_content": null,
            "align_items": null,
            "align_self": null,
            "border": null,
            "bottom": null,
            "display": null,
            "flex": null,
            "flex_flow": null,
            "grid_area": null,
            "grid_auto_columns": null,
            "grid_auto_flow": null,
            "grid_auto_rows": null,
            "grid_column": null,
            "grid_gap": null,
            "grid_row": null,
            "grid_template_areas": null,
            "grid_template_columns": null,
            "grid_template_rows": null,
            "height": null,
            "justify_content": null,
            "justify_items": null,
            "left": null,
            "margin": null,
            "max_height": null,
            "max_width": null,
            "min_height": null,
            "min_width": null,
            "object_fit": null,
            "object_position": null,
            "order": null,
            "overflow": null,
            "overflow_x": null,
            "overflow_y": null,
            "padding": null,
            "right": null,
            "top": null,
            "visibility": null,
            "width": null
          }
        },
        "d8e9eebcb4974439a21182a89c33a2a5": {
          "model_module": "@jupyter-widgets/controls",
          "model_name": "ProgressStyleModel",
          "model_module_version": "1.5.0",
          "state": {
            "_model_module": "@jupyter-widgets/controls",
            "_model_module_version": "1.5.0",
            "_model_name": "ProgressStyleModel",
            "_view_count": null,
            "_view_module": "@jupyter-widgets/base",
            "_view_module_version": "1.2.0",
            "_view_name": "StyleView",
            "bar_color": null,
            "description_width": ""
          }
        },
        "75162178a443465b96ca67a6716fed82": {
          "model_module": "@jupyter-widgets/base",
          "model_name": "LayoutModel",
          "model_module_version": "1.2.0",
          "state": {
            "_model_module": "@jupyter-widgets/base",
            "_model_module_version": "1.2.0",
            "_model_name": "LayoutModel",
            "_view_count": null,
            "_view_module": "@jupyter-widgets/base",
            "_view_module_version": "1.2.0",
            "_view_name": "LayoutView",
            "align_content": null,
            "align_items": null,
            "align_self": null,
            "border": null,
            "bottom": null,
            "display": null,
            "flex": null,
            "flex_flow": null,
            "grid_area": null,
            "grid_auto_columns": null,
            "grid_auto_flow": null,
            "grid_auto_rows": null,
            "grid_column": null,
            "grid_gap": null,
            "grid_row": null,
            "grid_template_areas": null,
            "grid_template_columns": null,
            "grid_template_rows": null,
            "height": null,
            "justify_content": null,
            "justify_items": null,
            "left": null,
            "margin": null,
            "max_height": null,
            "max_width": null,
            "min_height": null,
            "min_width": null,
            "object_fit": null,
            "object_position": null,
            "order": null,
            "overflow": null,
            "overflow_x": null,
            "overflow_y": null,
            "padding": null,
            "right": null,
            "top": null,
            "visibility": null,
            "width": null
          }
        },
        "9df10787e2a94692b1ba26cc175eae3c": {
          "model_module": "@jupyter-widgets/controls",
          "model_name": "DescriptionStyleModel",
          "model_module_version": "1.5.0",
          "state": {
            "_model_module": "@jupyter-widgets/controls",
            "_model_module_version": "1.5.0",
            "_model_name": "DescriptionStyleModel",
            "_view_count": null,
            "_view_module": "@jupyter-widgets/base",
            "_view_module_version": "1.2.0",
            "_view_name": "StyleView",
            "description_width": ""
          }
        },
        "74c5f2918009400cbd3a9c951dcd0bf2": {
          "model_module": "@jupyter-widgets/controls",
          "model_name": "HBoxModel",
          "model_module_version": "1.5.0",
          "state": {
            "_dom_classes": [],
            "_model_module": "@jupyter-widgets/controls",
            "_model_module_version": "1.5.0",
            "_model_name": "HBoxModel",
            "_view_count": null,
            "_view_module": "@jupyter-widgets/controls",
            "_view_module_version": "1.5.0",
            "_view_name": "HBoxView",
            "box_style": "",
            "children": [
              "IPY_MODEL_cd260de118e549c99137da3414146702",
              "IPY_MODEL_f357892bdb29464fba88572460e87536",
              "IPY_MODEL_191d5f0cd2a043ad95bed0e8f961e5d2"
            ],
            "layout": "IPY_MODEL_57d10e4db71c4b6cb1fb023ffb78f434"
          }
        },
        "cd260de118e549c99137da3414146702": {
          "model_module": "@jupyter-widgets/controls",
          "model_name": "HTMLModel",
          "model_module_version": "1.5.0",
          "state": {
            "_dom_classes": [],
            "_model_module": "@jupyter-widgets/controls",
            "_model_module_version": "1.5.0",
            "_model_name": "HTMLModel",
            "_view_count": null,
            "_view_module": "@jupyter-widgets/controls",
            "_view_module_version": "1.5.0",
            "_view_name": "HTMLView",
            "description": "",
            "description_tooltip": null,
            "layout": "IPY_MODEL_90652cf946c74e2cb560f7602e4a7993",
            "placeholder": "​",
            "style": "IPY_MODEL_4f823dc229d5467f8b3cf8e91650baf9",
            "value": "model.safetensors: 100%"
          }
        },
        "f357892bdb29464fba88572460e87536": {
          "model_module": "@jupyter-widgets/controls",
          "model_name": "FloatProgressModel",
          "model_module_version": "1.5.0",
          "state": {
            "_dom_classes": [],
            "_model_module": "@jupyter-widgets/controls",
            "_model_module_version": "1.5.0",
            "_model_name": "FloatProgressModel",
            "_view_count": null,
            "_view_module": "@jupyter-widgets/controls",
            "_view_module_version": "1.5.0",
            "_view_name": "ProgressView",
            "bar_style": "success",
            "description": "",
            "description_tooltip": null,
            "layout": "IPY_MODEL_846414cbb874426bb9db75291cdf7d2e",
            "max": 345579424,
            "min": 0,
            "orientation": "horizontal",
            "style": "IPY_MODEL_ef626105bfca4ce180b58c410bd95da9",
            "value": 345579424
          }
        },
        "191d5f0cd2a043ad95bed0e8f961e5d2": {
          "model_module": "@jupyter-widgets/controls",
          "model_name": "HTMLModel",
          "model_module_version": "1.5.0",
          "state": {
            "_dom_classes": [],
            "_model_module": "@jupyter-widgets/controls",
            "_model_module_version": "1.5.0",
            "_model_name": "HTMLModel",
            "_view_count": null,
            "_view_module": "@jupyter-widgets/controls",
            "_view_module_version": "1.5.0",
            "_view_name": "HTMLView",
            "description": "",
            "description_tooltip": null,
            "layout": "IPY_MODEL_ad94c73e6bc24678b494d600205a9867",
            "placeholder": "​",
            "style": "IPY_MODEL_b5e4cd33d8964762b99a7e9c94d8e63a",
            "value": " 346M/346M [00:04&lt;00:00, 130MB/s]"
          }
        },
        "57d10e4db71c4b6cb1fb023ffb78f434": {
          "model_module": "@jupyter-widgets/base",
          "model_name": "LayoutModel",
          "model_module_version": "1.2.0",
          "state": {
            "_model_module": "@jupyter-widgets/base",
            "_model_module_version": "1.2.0",
            "_model_name": "LayoutModel",
            "_view_count": null,
            "_view_module": "@jupyter-widgets/base",
            "_view_module_version": "1.2.0",
            "_view_name": "LayoutView",
            "align_content": null,
            "align_items": null,
            "align_self": null,
            "border": null,
            "bottom": null,
            "display": null,
            "flex": null,
            "flex_flow": null,
            "grid_area": null,
            "grid_auto_columns": null,
            "grid_auto_flow": null,
            "grid_auto_rows": null,
            "grid_column": null,
            "grid_gap": null,
            "grid_row": null,
            "grid_template_areas": null,
            "grid_template_columns": null,
            "grid_template_rows": null,
            "height": null,
            "justify_content": null,
            "justify_items": null,
            "left": null,
            "margin": null,
            "max_height": null,
            "max_width": null,
            "min_height": null,
            "min_width": null,
            "object_fit": null,
            "object_position": null,
            "order": null,
            "overflow": null,
            "overflow_x": null,
            "overflow_y": null,
            "padding": null,
            "right": null,
            "top": null,
            "visibility": null,
            "width": null
          }
        },
        "90652cf946c74e2cb560f7602e4a7993": {
          "model_module": "@jupyter-widgets/base",
          "model_name": "LayoutModel",
          "model_module_version": "1.2.0",
          "state": {
            "_model_module": "@jupyter-widgets/base",
            "_model_module_version": "1.2.0",
            "_model_name": "LayoutModel",
            "_view_count": null,
            "_view_module": "@jupyter-widgets/base",
            "_view_module_version": "1.2.0",
            "_view_name": "LayoutView",
            "align_content": null,
            "align_items": null,
            "align_self": null,
            "border": null,
            "bottom": null,
            "display": null,
            "flex": null,
            "flex_flow": null,
            "grid_area": null,
            "grid_auto_columns": null,
            "grid_auto_flow": null,
            "grid_auto_rows": null,
            "grid_column": null,
            "grid_gap": null,
            "grid_row": null,
            "grid_template_areas": null,
            "grid_template_columns": null,
            "grid_template_rows": null,
            "height": null,
            "justify_content": null,
            "justify_items": null,
            "left": null,
            "margin": null,
            "max_height": null,
            "max_width": null,
            "min_height": null,
            "min_width": null,
            "object_fit": null,
            "object_position": null,
            "order": null,
            "overflow": null,
            "overflow_x": null,
            "overflow_y": null,
            "padding": null,
            "right": null,
            "top": null,
            "visibility": null,
            "width": null
          }
        },
        "4f823dc229d5467f8b3cf8e91650baf9": {
          "model_module": "@jupyter-widgets/controls",
          "model_name": "DescriptionStyleModel",
          "model_module_version": "1.5.0",
          "state": {
            "_model_module": "@jupyter-widgets/controls",
            "_model_module_version": "1.5.0",
            "_model_name": "DescriptionStyleModel",
            "_view_count": null,
            "_view_module": "@jupyter-widgets/base",
            "_view_module_version": "1.2.0",
            "_view_name": "StyleView",
            "description_width": ""
          }
        },
        "846414cbb874426bb9db75291cdf7d2e": {
          "model_module": "@jupyter-widgets/base",
          "model_name": "LayoutModel",
          "model_module_version": "1.2.0",
          "state": {
            "_model_module": "@jupyter-widgets/base",
            "_model_module_version": "1.2.0",
            "_model_name": "LayoutModel",
            "_view_count": null,
            "_view_module": "@jupyter-widgets/base",
            "_view_module_version": "1.2.0",
            "_view_name": "LayoutView",
            "align_content": null,
            "align_items": null,
            "align_self": null,
            "border": null,
            "bottom": null,
            "display": null,
            "flex": null,
            "flex_flow": null,
            "grid_area": null,
            "grid_auto_columns": null,
            "grid_auto_flow": null,
            "grid_auto_rows": null,
            "grid_column": null,
            "grid_gap": null,
            "grid_row": null,
            "grid_template_areas": null,
            "grid_template_columns": null,
            "grid_template_rows": null,
            "height": null,
            "justify_content": null,
            "justify_items": null,
            "left": null,
            "margin": null,
            "max_height": null,
            "max_width": null,
            "min_height": null,
            "min_width": null,
            "object_fit": null,
            "object_position": null,
            "order": null,
            "overflow": null,
            "overflow_x": null,
            "overflow_y": null,
            "padding": null,
            "right": null,
            "top": null,
            "visibility": null,
            "width": null
          }
        },
        "ef626105bfca4ce180b58c410bd95da9": {
          "model_module": "@jupyter-widgets/controls",
          "model_name": "ProgressStyleModel",
          "model_module_version": "1.5.0",
          "state": {
            "_model_module": "@jupyter-widgets/controls",
            "_model_module_version": "1.5.0",
            "_model_name": "ProgressStyleModel",
            "_view_count": null,
            "_view_module": "@jupyter-widgets/base",
            "_view_module_version": "1.2.0",
            "_view_name": "StyleView",
            "bar_color": null,
            "description_width": ""
          }
        },
        "ad94c73e6bc24678b494d600205a9867": {
          "model_module": "@jupyter-widgets/base",
          "model_name": "LayoutModel",
          "model_module_version": "1.2.0",
          "state": {
            "_model_module": "@jupyter-widgets/base",
            "_model_module_version": "1.2.0",
            "_model_name": "LayoutModel",
            "_view_count": null,
            "_view_module": "@jupyter-widgets/base",
            "_view_module_version": "1.2.0",
            "_view_name": "LayoutView",
            "align_content": null,
            "align_items": null,
            "align_self": null,
            "border": null,
            "bottom": null,
            "display": null,
            "flex": null,
            "flex_flow": null,
            "grid_area": null,
            "grid_auto_columns": null,
            "grid_auto_flow": null,
            "grid_auto_rows": null,
            "grid_column": null,
            "grid_gap": null,
            "grid_row": null,
            "grid_template_areas": null,
            "grid_template_columns": null,
            "grid_template_rows": null,
            "height": null,
            "justify_content": null,
            "justify_items": null,
            "left": null,
            "margin": null,
            "max_height": null,
            "max_width": null,
            "min_height": null,
            "min_width": null,
            "object_fit": null,
            "object_position": null,
            "order": null,
            "overflow": null,
            "overflow_x": null,
            "overflow_y": null,
            "padding": null,
            "right": null,
            "top": null,
            "visibility": null,
            "width": null
          }
        },
        "b5e4cd33d8964762b99a7e9c94d8e63a": {
          "model_module": "@jupyter-widgets/controls",
          "model_name": "DescriptionStyleModel",
          "model_module_version": "1.5.0",
          "state": {
            "_model_module": "@jupyter-widgets/controls",
            "_model_module_version": "1.5.0",
            "_model_name": "DescriptionStyleModel",
            "_view_count": null,
            "_view_module": "@jupyter-widgets/base",
            "_view_module_version": "1.2.0",
            "_view_name": "StyleView",
            "description_width": ""
          }
        }
      }
    }
  },
  "cells": [
    {
      "cell_type": "markdown",
      "metadata": {
        "id": "view-in-github",
        "colab_type": "text"
      },
      "source": [
        "<a href=\"https://colab.research.google.com/github/Ibrah-N/Deep-Learning-Projects-Computer-Vision/blob/main/dl_16_transformer_encoder_from_scratch_and_hagging_transformer_fine_tuning.ipynb\" target=\"_parent\"><img src=\"https://colab.research.google.com/assets/colab-badge.svg\" alt=\"Open In Colab\"/></a>"
      ]
    },
    {
      "cell_type": "markdown",
      "metadata": {
        "id": "wuBLFEG4nJck"
      },
      "source": [
        "## Installs & Imports"
      ]
    },
    {
      "cell_type": "code",
      "execution_count": null,
      "metadata": {
        "id": "gWqLYv0ipaat"
      },
      "outputs": [],
      "source": [
        "!pip install -q kaggle"
      ]
    },
    {
      "cell_type": "code",
      "execution_count": null,
      "metadata": {
        "colab": {
          "base_uri": "https://localhost:8080/"
        },
        "id": "7k2v4ySXnx-k",
        "outputId": "ace1b027-31d1-4b5c-87ba-639248fd460f"
      },
      "outputs": [
        {
          "output_type": "stream",
          "name": "stdout",
          "text": [
            "Mounted at /content/gdrive\n"
          ]
        }
      ],
      "source": [
        "# mount the drive\n",
        "\n",
        "from google.colab import drive\n",
        "drive.mount('/content/gdrive')"
      ]
    },
    {
      "cell_type": "code",
      "execution_count": null,
      "metadata": {
        "id": "1ZEy5HlmnDXE"
      },
      "outputs": [],
      "source": [
        "# imports\n",
        "\n",
        "import numpy as np\n",
        "import matplotlib.pyplot as plt\n",
        "import seaborn as sns\n",
        "import cv2\n",
        "\n",
        "import tensorflow as tf"
      ]
    },
    {
      "cell_type": "code",
      "source": [],
      "metadata": {
        "id": "PY_LWYg_Sl3m"
      },
      "execution_count": null,
      "outputs": []
    },
    {
      "cell_type": "code",
      "source": [],
      "metadata": {
        "id": "JLBJOSx5Sl0T"
      },
      "execution_count": null,
      "outputs": []
    },
    {
      "cell_type": "markdown",
      "metadata": {
        "id": "BRKXj0DTnNhd"
      },
      "source": [
        "## Data Loading & Preprocessing"
      ]
    },
    {
      "cell_type": "code",
      "execution_count": null,
      "metadata": {
        "colab": {
          "base_uri": "https://localhost:8080/"
        },
        "id": "xEMrhlnqnNHP",
        "outputId": "c54c0014-6786-44cc-b280-4688b0c42830"
      },
      "outputs": [
        {
          "name": "stdout",
          "output_type": "stream",
          "text": [
            "cp: cannot stat 'kaggle.json': No such file or directory\n",
            "chmod: cannot access '/root/.kaggle/kaggle.json': No such file or directory\n"
          ]
        }
      ],
      "source": [
        "# setup the api\n",
        "\n",
        "!mkdir ~/.kaggle\n",
        "!cp kaggle.json ~/.kaggle/\n",
        "!chmod 600 ~/.kaggle/kaggle.json"
      ]
    },
    {
      "cell_type": "code",
      "execution_count": null,
      "metadata": {
        "colab": {
          "base_uri": "https://localhost:8080/"
        },
        "id": "rCu_7HuLnNE8",
        "outputId": "2133ac29-818b-4261-954a-790594677da8"
      },
      "outputs": [
        {
          "name": "stdout",
          "output_type": "stream",
          "text": [
            "Dataset URL: https://www.kaggle.com/datasets/muhammadhananasghar/human-emotions-datasethes\n",
            "License(s): unknown\n",
            "Downloading human-emotions-datasethes.zip to /content\n",
            " 96% 297M/309M [00:02<00:00, 147MB/s]\n",
            "100% 309M/309M [00:02<00:00, 119MB/s]\n"
          ]
        }
      ],
      "source": [
        "# dowload dataset\n",
        "\n",
        "!kaggle datasets download -d muhammadhananasghar/human-emotions-datasethes"
      ]
    },
    {
      "cell_type": "code",
      "execution_count": null,
      "metadata": {
        "id": "yUsRjztQ-KiJ",
        "colab": {
          "base_uri": "https://localhost:8080/"
        },
        "outputId": "1c49d3d1-9435-4870-993e-c98354145a84"
      },
      "outputs": [
        {
          "output_type": "stream",
          "name": "stdout",
          "text": [
            "cp: cannot stat 'human-emotions-datasethes.zip': No such file or directory\n"
          ]
        }
      ],
      "source": [
        "# copy dataset to mydrive\n",
        "\n",
        "!cp human-emotions-datasethes.zip gdrive/MyDrive/"
      ]
    },
    {
      "cell_type": "code",
      "execution_count": null,
      "metadata": {
        "id": "xBOob9QtpL_z"
      },
      "outputs": [],
      "source": [
        "# Extract Downloaded Dataset\n",
        "# !unzip -q human-emotions-datasethes.zip -d dataset/\n",
        "\n",
        "\n",
        "# Extract Saved dataset\n",
        "!unzip -q gdrive/MyDrive/human-emotions-datasethes.zip -d dataset/"
      ]
    },
    {
      "cell_type": "code",
      "execution_count": null,
      "metadata": {
        "id": "vBvDHiQjnNCl"
      },
      "outputs": [],
      "source": []
    },
    {
      "cell_type": "code",
      "execution_count": null,
      "metadata": {
        "id": "6q_qX8F4p1uN"
      },
      "outputs": [],
      "source": [
        "# Configurations\n",
        "\n",
        "TRAIN_DIR = '/content/dataset/Emotions Dataset/Emotions Dataset/train/'\n",
        "VAL_DIR = '/content/dataset/Emotions Dataset/Emotions Dataset/test/'\n",
        "\n",
        "\n",
        "CONFIG = {\n",
        "    'IM_SIZE' : 256,\n",
        "    'BATCH_SIZE' : 32,\n",
        "    'N_CLASSES': 3,\n",
        "    'LABELS' : ['angry', 'happy', 'sad'],\n",
        "    'EPOCHS' : 6,\n",
        "    'SEED' : 42,\n",
        "    'FILTER_SIZE': 16,\n",
        "    'POOL_SIZE': 2,\n",
        "    'PATCH_SIZE' : 16,\n",
        "    'KERNEL_SIZE': 3,\n",
        "    'DROPOUT_RATE': 0.0,\n",
        "    'LEARNING_RATE': 0.0001,\n",
        "    'DENSE_1': 32,\n",
        "    'DENSE_2': 16,\n",
        "    }\n"
      ]
    },
    {
      "cell_type": "code",
      "execution_count": null,
      "metadata": {
        "colab": {
          "base_uri": "https://localhost:8080/"
        },
        "id": "FXStrMK6rons",
        "outputId": "0296a47a-e7f9-4145-9020-2b31499a78ba"
      },
      "outputs": [
        {
          "output_type": "stream",
          "name": "stdout",
          "text": [
            "Found 6799 files belonging to 3 classes.\n",
            "Found 2278 files belonging to 3 classes.\n"
          ]
        }
      ],
      "source": [
        "# create tensorflow dataset\n",
        "\n",
        "train_dataset = tf.keras.preprocessing.image_dataset_from_directory(\n",
        "    TRAIN_DIR,\n",
        "    labels='inferred',\n",
        "    label_mode='categorical',\n",
        "    class_names=CONFIG['LABELS'],\n",
        "    batch_size=None,\n",
        "    image_size=(CONFIG['IM_SIZE'], CONFIG['IM_SIZE']),\n",
        "    seed=CONFIG['SEED'],\n",
        ")\n",
        "\n",
        "\n",
        "validation_dataset = tf.keras.preprocessing.image_dataset_from_directory(\n",
        "    VAL_DIR,\n",
        "    labels='inferred',\n",
        "    label_mode='categorical',\n",
        "    class_names=CONFIG['LABELS'],\n",
        "    batch_size=None,\n",
        "    image_size=(CONFIG['IM_SIZE'], CONFIG['IM_SIZE']),\n",
        "    seed=CONFIG['SEED'],\n",
        ")"
      ]
    },
    {
      "cell_type": "code",
      "execution_count": null,
      "metadata": {
        "id": "_g1npoqaFCBe"
      },
      "outputs": [],
      "source": [
        "# rescalling data\n",
        "\n",
        "def resize_rescale(image, label):\n",
        "    image  = tf.image.resize(image, (CONFIG['IM_SIZE'], CONFIG['IM_SIZE']))\n",
        "    image = tf.cast(image/255. , tf.float32)\n",
        "    return image, label"
      ]
    },
    {
      "cell_type": "code",
      "execution_count": null,
      "metadata": {
        "id": "4jPqPmeNroVR"
      },
      "outputs": [],
      "source": [
        "# train dataset prefetch\n",
        "\n",
        "train_dataset = (\n",
        "    train_dataset\n",
        "    # .map(resize_rescale)\n",
        "    .shuffle(buffer_size=1000, reshuffle_each_iteration=True)\n",
        "    .batch(CONFIG['BATCH_SIZE'])\n",
        "    .prefetch(buffer_size=tf.data.AUTOTUNE)\n",
        ")"
      ]
    },
    {
      "cell_type": "code",
      "execution_count": null,
      "metadata": {
        "id": "Tp5SAsGsroSq"
      },
      "outputs": [],
      "source": [
        "# validation dataset prefetch\n",
        "validation_dataset = (\n",
        "    validation_dataset\n",
        "    # .map(resize_rescale)\n",
        "    .shuffle(buffer_size=1000, reshuffle_each_iteration=True)\n",
        "    .batch(CONFIG['BATCH_SIZE'])\n",
        "    .prefetch(buffer_size=tf.data.AUTOTUNE)\n",
        ")"
      ]
    },
    {
      "cell_type": "code",
      "execution_count": null,
      "metadata": {
        "colab": {
          "base_uri": "https://localhost:8080/"
        },
        "id": "yz3tSM46roPy",
        "outputId": "864ac331-61be-45db-cebc-21ec61a83f6d"
      },
      "outputs": [
        {
          "output_type": "stream",
          "name": "stdout",
          "text": [
            "(TensorSpec(shape=(None, 256, 256, 3), dtype=tf.float32, name=None), TensorSpec(shape=(None, 3), dtype=tf.float32, name=None))\n",
            "(TensorSpec(shape=(None, 256, 256, 3), dtype=tf.float32, name=None), TensorSpec(shape=(None, 3), dtype=tf.float32, name=None))\n"
          ]
        }
      ],
      "source": [
        "print(train_dataset.element_spec)\n",
        "print(validation_dataset.element_spec)\n"
      ]
    },
    {
      "cell_type": "code",
      "execution_count": null,
      "metadata": {
        "colab": {
          "base_uri": "https://localhost:8080/",
          "height": 1000
        },
        "id": "dRholR2l8LcD",
        "outputId": "e5e51608-b96f-4873-c387-8a30f4a89868"
      },
      "outputs": [
        {
          "output_type": "stream",
          "name": "stderr",
          "text": [
            "WARNING:matplotlib.image:Clipping input data to the valid range for imshow with RGB data ([0..1] for floats or [0..255] for integers).\n",
            "WARNING:matplotlib.image:Clipping input data to the valid range for imshow with RGB data ([0..1] for floats or [0..255] for integers).\n",
            "WARNING:matplotlib.image:Clipping input data to the valid range for imshow with RGB data ([0..1] for floats or [0..255] for integers).\n",
            "WARNING:matplotlib.image:Clipping input data to the valid range for imshow with RGB data ([0..1] for floats or [0..255] for integers).\n",
            "WARNING:matplotlib.image:Clipping input data to the valid range for imshow with RGB data ([0..1] for floats or [0..255] for integers).\n",
            "WARNING:matplotlib.image:Clipping input data to the valid range for imshow with RGB data ([0..1] for floats or [0..255] for integers).\n",
            "WARNING:matplotlib.image:Clipping input data to the valid range for imshow with RGB data ([0..1] for floats or [0..255] for integers).\n",
            "WARNING:matplotlib.image:Clipping input data to the valid range for imshow with RGB data ([0..1] for floats or [0..255] for integers).\n",
            "WARNING:matplotlib.image:Clipping input data to the valid range for imshow with RGB data ([0..1] for floats or [0..255] for integers).\n",
            "WARNING:matplotlib.image:Clipping input data to the valid range for imshow with RGB data ([0..1] for floats or [0..255] for integers).\n",
            "WARNING:matplotlib.image:Clipping input data to the valid range for imshow with RGB data ([0..1] for floats or [0..255] for integers).\n",
            "WARNING:matplotlib.image:Clipping input data to the valid range for imshow with RGB data ([0..1] for floats or [0..255] for integers).\n",
            "WARNING:matplotlib.image:Clipping input data to the valid range for imshow with RGB data ([0..1] for floats or [0..255] for integers).\n",
            "WARNING:matplotlib.image:Clipping input data to the valid range for imshow with RGB data ([0..1] for floats or [0..255] for integers).\n",
            "WARNING:matplotlib.image:Clipping input data to the valid range for imshow with RGB data ([0..1] for floats or [0..255] for integers).\n",
            "WARNING:matplotlib.image:Clipping input data to the valid range for imshow with RGB data ([0..1] for floats or [0..255] for integers).\n",
            "WARNING:matplotlib.image:Clipping input data to the valid range for imshow with RGB data ([0..1] for floats or [0..255] for integers).\n",
            "WARNING:matplotlib.image:Clipping input data to the valid range for imshow with RGB data ([0..1] for floats or [0..255] for integers).\n",
            "WARNING:matplotlib.image:Clipping input data to the valid range for imshow with RGB data ([0..1] for floats or [0..255] for integers).\n",
            "WARNING:matplotlib.image:Clipping input data to the valid range for imshow with RGB data ([0..1] for floats or [0..255] for integers).\n",
            "WARNING:matplotlib.image:Clipping input data to the valid range for imshow with RGB data ([0..1] for floats or [0..255] for integers).\n",
            "WARNING:matplotlib.image:Clipping input data to the valid range for imshow with RGB data ([0..1] for floats or [0..255] for integers).\n",
            "WARNING:matplotlib.image:Clipping input data to the valid range for imshow with RGB data ([0..1] for floats or [0..255] for integers).\n",
            "WARNING:matplotlib.image:Clipping input data to the valid range for imshow with RGB data ([0..1] for floats or [0..255] for integers).\n",
            "WARNING:matplotlib.image:Clipping input data to the valid range for imshow with RGB data ([0..1] for floats or [0..255] for integers).\n",
            "WARNING:matplotlib.image:Clipping input data to the valid range for imshow with RGB data ([0..1] for floats or [0..255] for integers).\n",
            "WARNING:matplotlib.image:Clipping input data to the valid range for imshow with RGB data ([0..1] for floats or [0..255] for integers).\n",
            "WARNING:matplotlib.image:Clipping input data to the valid range for imshow with RGB data ([0..1] for floats or [0..255] for integers).\n",
            "WARNING:matplotlib.image:Clipping input data to the valid range for imshow with RGB data ([0..1] for floats or [0..255] for integers).\n",
            "WARNING:matplotlib.image:Clipping input data to the valid range for imshow with RGB data ([0..1] for floats or [0..255] for integers).\n",
            "WARNING:matplotlib.image:Clipping input data to the valid range for imshow with RGB data ([0..1] for floats or [0..255] for integers).\n",
            "WARNING:matplotlib.image:Clipping input data to the valid range for imshow with RGB data ([0..1] for floats or [0..255] for integers).\n"
          ]
        },
        {
          "output_type": "display_data",
          "data": {
            "text/plain": [
              "<Figure size 1000x1000 with 32 Axes>"
            ],
            "image/png": "[encoded data removed]"
          },
          "metadata": {}
        }
      ],
      "source": [
        "\n",
        "# visulize batch data\n",
        "\n",
        "def visulaize_batch(dataset, rows, cols):\n",
        "  \"\"\"\n",
        "    dataset : batch dataset shape (batch, im_size, im_size, 3)\n",
        "    rows : number of rows(int)\n",
        "    cols : number of cols(int)\n",
        "  \"\"\"\n",
        "\n",
        "  row = 0\n",
        "  col = 0\n",
        "  _, axs = plt.subplots(rows, cols, figsize=(10, 10))\n",
        "\n",
        "  for x, y in train_dataset.take(1):\n",
        "    for img, lbl in zip(x, y):\n",
        "      if row == rows and col < cols:\n",
        "        col += 1\n",
        "        row = 0\n",
        "      axs[row, col].imshow(img)\n",
        "      axs[row, col].set_title(CONFIG['LABELS'][np.argmax(lbl)])\n",
        "      axs[row, col].axis('off')\n",
        "      row += 1\n",
        "\n",
        "\n",
        "visulaize_batch(train_dataset.take(1), 8, 4)"
      ]
    },
    {
      "cell_type": "markdown",
      "source": [
        "## Transformer From Scritch"
      ],
      "metadata": {
        "id": "WKmtcoZ3U2Ca"
      }
    },
    {
      "cell_type": "code",
      "source": [
        "# Extract the image\n",
        "\n",
        "batch_img = train_dataset.take(1)\n",
        "img_array = next(iter(batch_img))[0][0]"
      ],
      "metadata": {
        "id": "moYr-WxvWrQO"
      },
      "execution_count": null,
      "outputs": []
    },
    {
      "cell_type": "code",
      "source": [
        "patch_size = 16\n",
        "\n",
        "patches = tf.image.extract_patches(\n",
        "    images=tf.expand_dims(img_array, axis=0),\n",
        "    sizes=[1, patch_size, patch_size, 1],\n",
        "    strides=[1, patch_size, patch_size, 1],\n",
        "    rates=[1, 1, 1, 1],\n",
        "    padding='VALID',\n",
        ")\n",
        "patches.shape"
      ],
      "metadata": {
        "colab": {
          "base_uri": "https://localhost:8080/"
        },
        "id": "YMNzwO6qXBmN",
        "outputId": "34cab343-6351-4832-9d95-077f269a217c"
      },
      "execution_count": null,
      "outputs": [
        {
          "output_type": "execute_result",
          "data": {
            "text/plain": [
              "TensorShape([1, 16, 16, 768])"
            ]
          },
          "metadata": {},
          "execution_count": 12
        }
      ]
    },
    {
      "cell_type": "code",
      "source": [
        "plt.figure(figsize=(8, 8))\n",
        "k = 0\n",
        "\n",
        "for i in range(patch_size):\n",
        "  for j in range(patch_size):\n",
        "    plt.subplot(patch_size, patch_size, k+1)\n",
        "    img = tf.reshape(patches[0, i , j , : ], (patch_size, patch_size, 3))\n",
        "    plt.imshow(img)\n",
        "    plt.axis('off')\n",
        "    k += 1\n"
      ],
      "metadata": {
        "colab": {
          "base_uri": "https://localhost:8080/",
          "height": 652
        },
        "id": "dxZ14JG-X3u3",
        "outputId": "5ee34cee-f0d3-4cb1-e7de-82f10a717dd4"
      },
      "execution_count": null,
      "outputs": [
        {
          "output_type": "display_data",
          "data": {
            "text/plain": [
              "<Figure size 800x800 with 256 Axes>"
            ],
            "image/png": "[encoded data removed]"
          },
          "metadata": {}
        }
      ]
    },
    {
      "cell_type": "code",
      "source": [],
      "metadata": {
        "id": "L2IpswbrX3b6"
      },
      "execution_count": null,
      "outputs": []
    },
    {
      "cell_type": "code",
      "source": [
        "class Encoder(tf.keras.layers.Layer):\n",
        "  def __init__(self, N_PATCHES, HIDDEN_SIZE):\n",
        "    super(Encoder, self).__init__(name='Encoder')\n",
        "    self.n_patches = N_PATCHES\n",
        "    self.hidden_size = HIDDEN_SIZE\n",
        "\n",
        "    self.linear_projection = tf.keras.layers.Dense(units=HIDDEN_SIZE)\n",
        "    self.position_embeding = tf.keras.layers.Embedding(input_dim=self.n_patches, output_dim=HIDDEN_SIZE)\n",
        "\n",
        "  def call(self, x):\n",
        "    patches = tf.image.extract_patches(\n",
        "        images=x,\n",
        "        sizes=[1, CONFIG['PATCH_SIZE'], CONFIG['PATCH_SIZE'], 1],\n",
        "        strides=[1, CONFIG['PATCH_SIZE'], CONFIG['PATCH_SIZE'], 1],\n",
        "        rates=[1, 1, 1, 1],\n",
        "        padding='VALID',\n",
        "    )\n",
        "    print(patches.shape)\n",
        "\n",
        "    patch = tf.shape(patches)[0]\n",
        "    patches = tf.reshape(patches, (patch, 256, patches.shape[-1]))\n",
        "    embeding_input = tf.range(start=0, limit=self.n_patches, delta=1)\n",
        "    encoder = self.linear_projection(patches) + self.position_embeding(embeding_input)\n",
        "\n",
        "    return encoder"
      ],
      "metadata": {
        "id": "r12D_JxzQKLA"
      },
      "execution_count": null,
      "outputs": []
    },
    {
      "cell_type": "code",
      "source": [
        "class TransformerEncoder(tf.keras.layers.Layer):\n",
        "  def __init__(self, N_HEAD, HIDDEN_SIZE):\n",
        "    super(TransformerEncoder, self).__init__(name='TransformerEncoder')\n",
        "\n",
        "    self.norm_1 = tf.keras.layers.LayerNormalization()\n",
        "    self.norm_2 = tf.keras.layers.LayerNormalization()\n",
        "\n",
        "    self.dropout = tf.keras.layers.Dropout(rate=0.1)\n",
        "    self.multi_head_attention = tf.keras.layers.MultiHeadAttention(num_heads=N_HEAD, key_dim=HIDDEN_SIZE)\n",
        "\n",
        "    self.dense_1 = tf.keras.layers.Dense(HIDDEN_SIZE, tf.nn.gelu)\n",
        "    self.dense_2 = tf.keras.layers.Dense(HIDDEN_SIZE, tf.nn.gelu)\n",
        "\n",
        "\n",
        "  def call(self, input):\n",
        "\n",
        "    # first layer\n",
        "    x_1 = self.norm_1(input)\n",
        "    x_1 = self.multi_head_attention(x_1, x_1)\n",
        "    x_1 = tf.keras.layers.Add()([x_1, input])\n",
        "\n",
        "    # second layer\n",
        "    x_2 = self.norm_2(x_1)\n",
        "    x_2 = self.dense_1(x_2)\n",
        "    # x_2 = self.dropout(x_2)\n",
        "    x_2 = self.dense_2(x_2)\n",
        "    output = tf.keras.layers.Add()([x_2, x_1])\n",
        "\n",
        "    return output"
      ],
      "metadata": {
        "id": "My0HBdtTeMn3"
      },
      "execution_count": null,
      "outputs": []
    },
    {
      "cell_type": "code",
      "source": [
        "class ViT(tf.keras.models.Model):\n",
        "  def __init__(self, N_CLASSES, N_HEAD, N_LAYER, N_PATCHES, HIDDEN_SIZE, N_DENSE_UNIT):\n",
        "    super(ViT, self).__init__(name='ViT')\n",
        "\n",
        "    self.n_head = N_HEAD\n",
        "    self.n_classes = N_CLASSES\n",
        "    self.n_layer = N_LAYER\n",
        "    self.n_patches = N_PATCHES\n",
        "    self.hidden_size = HIDDEN_SIZE\n",
        "    self.n_dense_unit = N_DENSE_UNIT\n",
        "\n",
        "\n",
        "    self.patch_encoder = Encoder(self.n_patches, self.hidden_size)\n",
        "    self.transformer_encoder = [TransformerEncoder(self.n_head, self.hidden_size) for _ in range(self.n_layer)]\n",
        "\n",
        "    self.dense_1 = tf.keras.layers.Dense(self.n_dense_unit, tf.nn.gelu)\n",
        "    self.dense_2 = tf.keras.layers.Dense(self.n_dense_unit, tf.nn.gelu)\n",
        "    self.dense_3 = tf.keras.layers.Dense(self.n_classes, activation='softmax')\n",
        "\n",
        "\n",
        "  def call(self, x, training=True):\n",
        "    x = self.patch_encoder(x)\n",
        "\n",
        "    for i in range(self.n_layer):\n",
        "      x = self.transformer_encoder[i](x)\n",
        "\n",
        "    x = tf.keras.layers.Flatten()(x)\n",
        "\n",
        "    x = self.dense_1(x)\n",
        "    x = self.dense_2(x)\n",
        "    x = self.dense_3(x)\n",
        "\n",
        "    return x"
      ],
      "metadata": {
        "id": "84QBwMvxhAJQ"
      },
      "execution_count": null,
      "outputs": []
    },
    {
      "cell_type": "code",
      "source": [
        "ViT_model = ViT(N_CLASSES=3, N_HEAD=4, N_LAYER=2, N_PATCHES=256, HIDDEN_SIZE=768, N_DENSE_UNIT=512)\n",
        "ViT_model(tf.zeros([32, 256, 256, 3]))\n",
        "ViT_model.summary()"
      ],
      "metadata": {
        "colab": {
          "base_uri": "https://localhost:8080/"
        },
        "id": "QXKF4oyvdX6M",
        "outputId": "bb787da9-4dad-44df-cf43-87e110dd9187"
      },
      "execution_count": null,
      "outputs": [
        {
          "output_type": "stream",
          "name": "stdout",
          "text": [
            "(32, 16, 16, 768)\n",
            "Model: \"ViT\"\n",
            "_________________________________________________________________\n",
            " Layer (type)                Output Shape              Param #   \n",
            "=================================================================\n",
            " Encoder (Encoder)           multiple                  787200    \n",
            "                                                                 \n",
            " TransformerEncoder (Transf  multiple                  10631424  \n",
            " ormerEncoder)                                                   \n",
            "                                                                 \n",
            " TransformerEncoder (Transf  multiple                  10631424  \n",
            " ormerEncoder)                                                   \n",
            "                                                                 \n",
            " dense_5 (Dense)             multiple                  100663808 \n",
            "                                                                 \n",
            " dense_6 (Dense)             multiple                  262656    \n",
            "                                                                 \n",
            " dense_7 (Dense)             multiple                  1539      \n",
            "                                                                 \n",
            "=================================================================\n",
            "Total params: 122978051 (469.12 MB)\n",
            "Trainable params: 122978051 (469.12 MB)\n",
            "Non-trainable params: 0 (0.00 Byte)\n",
            "_________________________________________________________________\n"
          ]
        }
      ]
    },
    {
      "cell_type": "code",
      "source": [],
      "metadata": {
        "id": "rOtLm3CjhwQt"
      },
      "execution_count": null,
      "outputs": []
    },
    {
      "cell_type": "code",
      "source": [
        "ViT_model.compile(\n",
        "    optimizer=tf.keras.optimizers.Adam(learning_rate=CONFIG['LEARNING_RATE']),\n",
        "    loss=tf.keras.losses.CategoricalCrossentropy(),\n",
        "    metrics=tf.keras.losses.CategoricalCrossentropy()\n",
        ")"
      ],
      "metadata": {
        "id": "ibusgRjLhwDk"
      },
      "execution_count": null,
      "outputs": []
    },
    {
      "cell_type": "code",
      "source": [
        "ViT_model.fit(train_dataset, epochs=CONFIG['EPOCHS'], validation_data=validation_dataset)"
      ],
      "metadata": {
        "id": "_kXL0TuceR8M"
      },
      "execution_count": null,
      "outputs": []
    },
    {
      "cell_type": "code",
      "source": [],
      "metadata": {
        "id": "GMO2TjkttqwJ"
      },
      "execution_count": null,
      "outputs": []
    },
    {
      "cell_type": "code",
      "source": [],
      "metadata": {
        "id": "jKC3K0ZBtqsK"
      },
      "execution_count": null,
      "outputs": []
    },
    {
      "cell_type": "code",
      "source": [],
      "metadata": {
        "id": "8DxCJ_kzx-H3"
      },
      "execution_count": null,
      "outputs": []
    },
    {
      "cell_type": "markdown",
      "source": [
        "## Wandb"
      ],
      "metadata": {
        "id": "x0cGy-ovxpzQ"
      }
    },
    {
      "cell_type": "code",
      "source": [
        "!pip install -q wandb"
      ],
      "metadata": {
        "id": "VdcCgVP_xsGS",
        "colab": {
          "base_uri": "https://localhost:8080/"
        },
        "outputId": "7648b279-e139-4147-83dc-8ed14fc7eae1"
      },
      "execution_count": null,
      "outputs": [
        {
          "output_type": "stream",
          "name": "stdout",
          "text": [
            "\u001b[2K     \u001b[90m━━━━━━━━━━━━━━━━━━━━━━━━━━━━━━━━━━━━━━━━\u001b[0m \u001b[32m6.8/6.8 MB\u001b[0m \u001b[31m52.8 MB/s\u001b[0m eta \u001b[36m0:00:00\u001b[0m\n",
            "\u001b[2K     \u001b[90m━━━━━━━━━━━━━━━━━━━━━━━━━━━━━━━━━━━━━━━━\u001b[0m \u001b[32m207.3/207.3 kB\u001b[0m \u001b[31m25.4 MB/s\u001b[0m eta \u001b[36m0:00:00\u001b[0m\n",
            "\u001b[2K     \u001b[90m━━━━━━━━━━━━━━━━━━━━━━━━━━━━━━━━━━━━━━━━\u001b[0m \u001b[32m302.1/302.1 kB\u001b[0m \u001b[31m27.5 MB/s\u001b[0m eta \u001b[36m0:00:00\u001b[0m\n",
            "\u001b[2K     \u001b[90m━━━━━━━━━━━━━━━━━━━━━━━━━━━━━━━━━━━━━━━━\u001b[0m \u001b[32m62.7/62.7 kB\u001b[0m \u001b[31m8.7 MB/s\u001b[0m eta \u001b[36m0:00:00\u001b[0m\n",
            "\u001b[?25h"
          ]
        }
      ]
    },
    {
      "cell_type": "code",
      "source": [
        "import wandb"
      ],
      "metadata": {
        "id": "yyEgaHU9xwPD"
      },
      "execution_count": null,
      "outputs": []
    },
    {
      "cell_type": "code",
      "source": [
        "from wandb.keras import WandbCallback"
      ],
      "metadata": {
        "id": "YKanSu8JBji_"
      },
      "execution_count": null,
      "outputs": []
    },
    {
      "cell_type": "code",
      "source": [
        "wandb.login(key=\"791da7778092369c33534951b74dedb4e5749326\")"
      ],
      "metadata": {
        "colab": {
          "base_uri": "https://localhost:8080/"
        },
        "id": "qJ45yiDOoRIZ",
        "outputId": "97452d7c-f81c-43df-8a2d-69716367d9ec"
      },
      "execution_count": null,
      "outputs": [
        {
          "output_type": "stream",
          "name": "stderr",
          "text": [
            "\u001b[34m\u001b[1mwandb\u001b[0m: W&B API key is configured. Use \u001b[1m`wandb login --relogin`\u001b[0m to force relogin\n",
            "\u001b[34m\u001b[1mwandb\u001b[0m: \u001b[33mWARNING\u001b[0m If you're specifying your api key in code, ensure this code is not shared publicly.\n",
            "\u001b[34m\u001b[1mwandb\u001b[0m: \u001b[33mWARNING\u001b[0m Consider setting the WANDB_API_KEY environment variable, or running `wandb login` from the command line.\n",
            "\u001b[34m\u001b[1mwandb\u001b[0m: Appending key for api.wandb.ai to your netrc file: /root/.netrc\n"
          ]
        },
        {
          "output_type": "execute_result",
          "data": {
            "text/plain": [
              "True"
            ]
          },
          "metadata": {},
          "execution_count": 16
        }
      ]
    },
    {
      "cell_type": "code",
      "source": [
        "wandb.init(project = \"ViT-Human-Emotion-Detection-SubClass\", config=CONFIG)\n",
        "CONFIG = wandb.config"
      ],
      "metadata": {
        "colab": {
          "base_uri": "https://localhost:8080/",
          "height": 122
        },
        "id": "eMNXpOcCoRE5",
        "outputId": "6027cbcb-8672-429f-8f05-b02d17e27396"
      },
      "execution_count": null,
      "outputs": [
        {
          "output_type": "stream",
          "name": "stderr",
          "text": [
            "\u001b[34m\u001b[1mwandb\u001b[0m: Currently logged in as: \u001b[33mibrahnengineer\u001b[0m. Use \u001b[1m`wandb login --relogin`\u001b[0m to force relogin\n"
          ]
        },
        {
          "output_type": "display_data",
          "data": {
            "text/plain": [
              "<IPython.core.display.HTML object>"
            ],
            "text/html": [
              "Tracking run with wandb version 0.17.5"
            ]
          },
          "metadata": {}
        },
        {
          "output_type": "display_data",
          "data": {
            "text/plain": [
              "<IPython.core.display.HTML object>"
            ],
            "text/html": [
              "Run data is saved locally in <code>/content/wandb/run-20240723_003841-gi44y1js</code>"
            ]
          },
          "metadata": {}
        },
        {
          "output_type": "display_data",
          "data": {
            "text/plain": [
              "<IPython.core.display.HTML object>"
            ],
            "text/html": [
              "Syncing run <strong><a href='https://wandb.ai/ibrahnengineer/ViT-Human-Emotion-Detection-SubClass/runs/gi44y1js' target=\"_blank\">fragrant-dew-8</a></strong> to <a href='https://wandb.ai/ibrahnengineer/ViT-Human-Emotion-Detection-SubClass' target=\"_blank\">Weights & Biases</a> (<a href='https://wandb.me/run' target=\"_blank\">docs</a>)<br/>"
            ]
          },
          "metadata": {}
        },
        {
          "output_type": "display_data",
          "data": {
            "text/plain": [
              "<IPython.core.display.HTML object>"
            ],
            "text/html": [
              " View project at <a href='https://wandb.ai/ibrahnengineer/ViT-Human-Emotion-Detection-SubClass' target=\"_blank\">https://wandb.ai/ibrahnengineer/ViT-Human-Emotion-Detection-SubClass</a>"
            ]
          },
          "metadata": {}
        },
        {
          "output_type": "display_data",
          "data": {
            "text/plain": [
              "<IPython.core.display.HTML object>"
            ],
            "text/html": [
              " View run at <a href='https://wandb.ai/ibrahnengineer/ViT-Human-Emotion-Detection-SubClass/runs/gi44y1js' target=\"_blank\">https://wandb.ai/ibrahnengineer/ViT-Human-Emotion-Detection-SubClass/runs/gi44y1js</a>"
            ]
          },
          "metadata": {}
        }
      ]
    },
    {
      "cell_type": "code",
      "source": [
        "def lr_scheduler(epoch, lr):\n",
        "  if epoch < 3:\n",
        "    return lr\n",
        "  else:\n",
        "    return lr * 0.1\n",
        "\n",
        "lr_callback = tf.keras.callbacks.LearningRateScheduler(lr_scheduler)\n"
      ],
      "metadata": {
        "id": "kMHlyMKl3Sg-"
      },
      "execution_count": null,
      "outputs": []
    },
    {
      "cell_type": "code",
      "source": [
        "# Log Confusion Metrix\n",
        "class LogConfMetrixWandb(tf.keras.callbacks.Callback):\n",
        "  def on_epoch_end(self, epoch, logs=None):\n",
        "    log_data = validation_dataset.take(1)\n",
        "\n",
        "\n",
        "    val_labels = []\n",
        "    val_preds = []\n",
        "    ### Extract Labels\n",
        "    for data in log_data:\n",
        "      for i in range(len(data[0])):\n",
        "        # print(\"x\", data[0][i].shape)\n",
        "        val_labels.append(tf.argmax(data[1][i]).numpy())\n",
        "        val_preds.append(tf.argmax(custom_vit(tf.expand_dims(data[0][i], axis=0))[0]).numpy())\n",
        "\n",
        "\n",
        "    ### Log Confusion Metrix\n",
        "    cm = wandb.plot.confusion_matrix(\n",
        "        y_true=val_labels,\n",
        "        preds=val_preds,\n",
        "        class_names=CONFIG['LABELS']\n",
        "    )\n",
        "    wandb.log({'Confusion Metrix': cm})"
      ],
      "metadata": {
        "id": "8Ee7Ab26x_E7"
      },
      "execution_count": null,
      "outputs": []
    },
    {
      "cell_type": "code",
      "source": [
        "# Log Table\n",
        "class LogTablesWandb(tf.keras.callbacks.Callback):\n",
        "  def on_epoch_end(self, epoch, logs=None):\n",
        "    log_data = validation_dataset.take(1)\n",
        "\n",
        "\n",
        "    val_labels = []\n",
        "    val_preds = []\n",
        "    img_list = []\n",
        "    ### Extract Labels\n",
        "    for data in log_data:\n",
        "      for i in range(len(data[0])):\n",
        "        img_list.append(data[0][i])\n",
        "        val_labels.append(tf.argmax(data[1][i]).numpy())\n",
        "        val_preds.append(tf.argmax(custom_vit(tf.expand_dims(data[0][i], axis=0))[0]).numpy())\n",
        "\n",
        "\n",
        "    ### Log Tables\n",
        "    columns = [\"Image\", \"Predicted\", \"Label\"]\n",
        "    table = wandb.Table(columns=columns)\n",
        "    for i in range(len(val_labels)):\n",
        "      table.add_data(wandb.Image(img_list[i]),\n",
        "                CONFIG['LABELS'][val_preds[i]],\n",
        "                CONFIG['LABELS'][val_labels[i]])\n",
        "\n",
        "\n",
        "    wandb.log({'Table': table})"
      ],
      "metadata": {
        "id": "TJrHND_MmkVQ"
      },
      "execution_count": null,
      "outputs": []
    },
    {
      "cell_type": "markdown",
      "source": [
        "## Fine tunning hagging face transformer"
      ],
      "metadata": {
        "id": "4uU6QUDbQMiy"
      }
    },
    {
      "cell_type": "code",
      "source": [
        "!pip install -q transformers\n",
        "from transformers import TFViTModel"
      ],
      "metadata": {
        "id": "A7MdkojfzWIw"
      },
      "execution_count": null,
      "outputs": []
    },
    {
      "cell_type": "code",
      "source": [
        "# resize resclae\n",
        "\n",
        "resize_rescale_layer = tf.keras.Sequential([\n",
        "    tf.keras.layers.Resizing(224, 224),\n",
        "    tf.keras.layers.Rescaling(1./255),\n",
        "    tf.keras.layers.Permute((3, 1, 2))\n",
        "])"
      ],
      "metadata": {
        "id": "J9dO8kc20ynD"
      },
      "execution_count": null,
      "outputs": []
    },
    {
      "cell_type": "code",
      "source": [
        "\n",
        "base_model = TFViTModel.from_pretrained('google/vit-base-patch16-224-in21k')"
      ],
      "metadata": {
        "id": "g3Ry8tP64ytd"
      },
      "execution_count": null,
      "outputs": []
    },
    {
      "cell_type": "code",
      "source": [
        "\n",
        "\n",
        "input = tf.keras.layers.Input(shape=(256, 256, 3))\n",
        "x = resize_rescale_layer(input)\n",
        "x = base_model.vit(x)[0][:, 0, :]\n",
        "output = tf.keras.layers.Dense(CONFIG['N_CLASSES'], activation='softmax')(x)\n",
        "\n",
        "model = tf.keras.Model(inputs = input, outputs = output)"
      ],
      "metadata": {
        "id": "Gvnc4WuSQLSa"
      },
      "execution_count": null,
      "outputs": []
    },
    {
      "cell_type": "code",
      "source": [
        "model.compile(\n",
        "    optimizer=tf.keras.optimizers.Adam(learning_rate=CONFIG['LEARNING_RATE']),\n",
        "    loss=tf.keras.losses.CategoricalCrossentropy(),\n",
        "    metrics=tf.keras.metrics.CategoricalCrossentropy()\n",
        ")"
      ],
      "metadata": {
        "id": "kxE0HbkmQLNI"
      },
      "execution_count": null,
      "outputs": []
    },
    {
      "cell_type": "code",
      "source": [
        "model.fit(train_dataset,\n",
        "          epochs=CONFIG['EPOCHS'],\n",
        "          validation_data=validation_dataset,\n",
        "          verbose=1,\n",
        "          callbacks=[WandbCallback(save_model=False), LogConfMetrixWandb(), LogTablesWandb()])"
      ],
      "metadata": {
        "id": "tXhvaybLQLK_"
      },
      "execution_count": null,
      "outputs": []
    },
    {
      "cell_type": "markdown",
      "source": [
        "### CustomVit SubClass Model"
      ],
      "metadata": {
        "id": "ipX8uwuS4YRA"
      }
    },
    {
      "cell_type": "code",
      "source": [
        "# Custom Hugging Face sub class model\n",
        "\n",
        "class CustomVit(tf.keras.Model):\n",
        "  def __init__(self, n_classes, **kwargs):\n",
        "    super(CustomVit, self).__init__(name=\"CustomVit-Model\")\n",
        "\n",
        "\n",
        "    self.resize_rescale_layer = tf.keras.Sequential([\n",
        "        tf.keras.layers.Resizing(224, 224),\n",
        "        tf.keras.layers.Rescaling(1./255),\n",
        "        tf.keras.layers.Permute((3, 1, 2))\n",
        "    ])\n",
        "\n",
        "    self.base_model = TFViTModel.from_pretrained('google/vit-base-patch16-224-in21k')\n",
        "\n",
        "    self.classifier = tf.keras.layers.Dense(CONFIG['N_CLASSES'], activation='softmax')\n",
        "\n",
        "\n",
        "  def call(self, input):\n",
        "\n",
        "    x = self.resize_rescale_layer(input)\n",
        "    x = self.base_model.vit(x)[0][:, 0, :]\n",
        "    output = self.classifier(x)\n",
        "\n",
        "    return output"
      ],
      "metadata": {
        "id": "53Kzt9yk9ev2"
      },
      "execution_count": null,
      "outputs": []
    },
    {
      "cell_type": "code",
      "source": [
        "custom_vit = CustomVit(CONFIG['N_CLASSES'])\n",
        "# custom_vit(tf.zeros([32, 256, 256, 3]))\n",
        "# custom_vit.summary()"
      ],
      "metadata": {
        "colab": {
          "base_uri": "https://localhost:8080/",
          "height": 280,
          "referenced_widgets": [
            "ab5548f67ee7496a8d25d27748604278",
            "62f01cccbd3c4d8f98983f1908a86811",
            "d20f1df667e84733a6da6bb1ddc080f9",
            "d371597896b341bba024f2f93485db97",
            "09de395e803e44b489efadf2837d8357",
            "04eb623021a14af186599e82e1fc8652",
            "8d77baf4d1ec44eb91a6644aed20772d",
            "ae0cf7f2a0604e7093eb35d46fa327d9",
            "d8e9eebcb4974439a21182a89c33a2a5",
            "75162178a443465b96ca67a6716fed82",
            "9df10787e2a94692b1ba26cc175eae3c",
            "74c5f2918009400cbd3a9c951dcd0bf2",
            "cd260de118e549c99137da3414146702",
            "f357892bdb29464fba88572460e87536",
            "191d5f0cd2a043ad95bed0e8f961e5d2",
            "57d10e4db71c4b6cb1fb023ffb78f434",
            "90652cf946c74e2cb560f7602e4a7993",
            "4f823dc229d5467f8b3cf8e91650baf9",
            "846414cbb874426bb9db75291cdf7d2e",
            "ef626105bfca4ce180b58c410bd95da9",
            "ad94c73e6bc24678b494d600205a9867",
            "b5e4cd33d8964762b99a7e9c94d8e63a"
          ]
        },
        "id": "LkayR_vWiAb2",
        "outputId": "42bbea89-8a7e-4f8d-c799-00884dfda929"
      },
      "execution_count": null,
      "outputs": [
        {
          "output_type": "stream",
          "name": "stderr",
          "text": [
            "/usr/local/lib/python3.10/dist-packages/huggingface_hub/utils/_token.py:89: UserWarning: \n",
            "The secret `HF_TOKEN` does not exist in your Colab secrets.\n",
            "To authenticate with the Hugging Face Hub, create a token in your settings tab (https://huggingface.co/settings/tokens), set it as secret in your Google Colab and restart your session.\n",
            "You will be able to reuse this secret in all of your notebooks.\n",
            "Please note that authentication is recommended but still optional to access public models or datasets.\n",
            "  warnings.warn(\n"
          ]
        },
        {
          "output_type": "display_data",
          "data": {
            "text/plain": [
              "config.json:   0%|          | 0.00/502 [00:00<?, ?B/s]"
            ],
            "application/vnd.jupyter.widget-view+json": {
              "version_major": 2,
              "version_minor": 0,
              "model_id": "ab5548f67ee7496a8d25d27748604278"
            }
          },
          "metadata": {}
        },
        {
          "output_type": "display_data",
          "data": {
            "text/plain": [
              "model.safetensors:   0%|          | 0.00/346M [00:00<?, ?B/s]"
            ],
            "application/vnd.jupyter.widget-view+json": {
              "version_major": 2,
              "version_minor": 0,
              "model_id": "74c5f2918009400cbd3a9c951dcd0bf2"
            }
          },
          "metadata": {}
        },
        {
          "output_type": "stream",
          "name": "stderr",
          "text": [
            "All PyTorch model weights were used when initializing TFViTModel.\n",
            "\n",
            "All the weights of TFViTModel were initialized from the PyTorch model.\n",
            "If your task is similar to the task the model of the checkpoint was trained on, you can already use TFViTModel for predictions without further training.\n"
          ]
        }
      ]
    },
    {
      "cell_type": "code",
      "source": [
        "custom_vit.compile(\n",
        "    optimizer=tf.keras.optimizers.Adam(learning_rate=CONFIG['LEARNING_RATE']),\n",
        "    loss=tf.keras.losses.CategoricalCrossentropy(),\n",
        "    metrics=tf.keras.metrics.CategoricalAccuracy()\n",
        ")"
      ],
      "metadata": {
        "id": "1oXPPYkO9eq1"
      },
      "execution_count": null,
      "outputs": []
    },
    {
      "cell_type": "code",
      "source": [
        "custom_vit.fit(train_dataset,\n",
        "          epochs=CONFIG['EPOCHS'],\n",
        "          validation_data=validation_dataset,\n",
        "          verbose=1,\n",
        "          callbacks=[WandbCallback(save_model=False), LogConfMetrixWandb(), LogTablesWandb(), lr_callback])"
      ],
      "metadata": {
        "colab": {
          "base_uri": "https://localhost:8080/"
        },
        "id": "__H4GCU49ejU",
        "outputId": "47c9085b-7060-4163-bb05-c47c4c695ab1"
      },
      "execution_count": null,
      "outputs": [
        {
          "output_type": "stream",
          "name": "stdout",
          "text": [
            "Epoch 1/6\n"
          ]
        },
        {
          "output_type": "stream",
          "name": "stderr",
          "text": [
            "WARNING:tensorflow:Gradients do not exist for variables ['tf_vi_t_model/vit/pooler/dense/kernel:0', 'tf_vi_t_model/vit/pooler/dense/bias:0'] when minimizing the loss. If you're using `model.compile()`, did you forget to provide a `loss` argument?\n",
            "WARNING:tensorflow:Gradients do not exist for variables ['tf_vi_t_model/vit/pooler/dense/kernel:0', 'tf_vi_t_model/vit/pooler/dense/bias:0'] when minimizing the loss. If you're using `model.compile()`, did you forget to provide a `loss` argument?\n",
            "WARNING:tensorflow:Gradients do not exist for variables ['tf_vi_t_model/vit/pooler/dense/kernel:0', 'tf_vi_t_model/vit/pooler/dense/bias:0'] when minimizing the loss. If you're using `model.compile()`, did you forget to provide a `loss` argument?\n",
            "WARNING:tensorflow:Gradients do not exist for variables ['tf_vi_t_model/vit/pooler/dense/kernel:0', 'tf_vi_t_model/vit/pooler/dense/bias:0'] when minimizing the loss. If you're using `model.compile()`, did you forget to provide a `loss` argument?\n"
          ]
        },
        {
          "output_type": "stream",
          "name": "stdout",
          "text": [
            "213/213 [==============================] - 388s 2s/step - loss: 0.4866 - categorical_accuracy: 0.7981 - val_loss: 0.3445 - val_categorical_accuracy: 0.8551 - lr: 1.0000e-04\n",
            "Epoch 2/6\n",
            "213/213 [==============================] - 309s 1s/step - loss: 0.2560 - categorical_accuracy: 0.9019 - val_loss: 0.2875 - val_categorical_accuracy: 0.8876 - lr: 1.0000e-04\n",
            "Epoch 3/6\n",
            "213/213 [==============================] - 312s 1s/step - loss: 0.1750 - categorical_accuracy: 0.9328 - val_loss: 0.3385 - val_categorical_accuracy: 0.8828 - lr: 1.0000e-04\n",
            "Epoch 4/6\n",
            "213/213 [==============================] - 308s 1s/step - loss: 0.0840 - categorical_accuracy: 0.9666 - val_loss: 0.3130 - val_categorical_accuracy: 0.8938 - lr: 1.0000e-05\n",
            "Epoch 5/6\n",
            "213/213 [==============================] - 313s 1s/step - loss: 0.0622 - categorical_accuracy: 0.9766 - val_loss: 0.3189 - val_categorical_accuracy: 0.8933 - lr: 1.0000e-06\n",
            "Epoch 6/6\n",
            "213/213 [==============================] - 309s 1s/step - loss: 0.0599 - categorical_accuracy: 0.9771 - val_loss: 0.3196 - val_categorical_accuracy: 0.8933 - lr: 1.0000e-07\n"
          ]
        },
        {
          "output_type": "execute_result",
          "data": {
            "text/plain": [
              "<keras.src.callbacks.History at 0x7b1f6260d000>"
            ]
          },
          "metadata": {},
          "execution_count": 28
        }
      ]
    },
    {
      "cell_type": "code",
      "source": [],
      "metadata": {
        "id": "MT01jJkQ9eYK"
      },
      "execution_count": null,
      "outputs": []
    },
    {
      "cell_type": "code",
      "source": [
        "custom_vit.save(\"human-emotion-detection-vit-model\", save_format = 'tf')"
      ],
      "metadata": {
        "id": "zieqwX2PJq0c"
      },
      "execution_count": null,
      "outputs": []
    },
    {
      "cell_type": "code",
      "source": [
        "!pip install -U tf2onnx\n",
        "!pip install onnxruntime"
      ],
      "metadata": {
        "colab": {
          "base_uri": "https://localhost:8080/"
        },
        "id": "vQVt-AnSJqxx",
        "outputId": "ef058688-506b-4912-e700-9d4a72528eb9"
      },
      "execution_count": null,
      "outputs": [
        {
          "output_type": "stream",
          "name": "stdout",
          "text": [
            "Collecting tf2onnx\n",
            "  Downloading tf2onnx-1.16.1-py3-none-any.whl (455 kB)\n",
            "\u001b[2K     \u001b[90m━━━━━━━━━━━━━━━━━━━━━━━━━━━━━━━━━━━━━━━━\u001b[0m \u001b[32m455.8/455.8 kB\u001b[0m \u001b[31m5.1 MB/s\u001b[0m eta \u001b[36m0:00:00\u001b[0m\n",
            "\u001b[?25hRequirement already satisfied: numpy>=1.14.1 in /usr/local/lib/python3.10/dist-packages (from tf2onnx) (1.25.2)\n",
            "Collecting onnx>=1.4.1 (from tf2onnx)\n",
            "  Downloading onnx-1.16.1-cp310-cp310-manylinux_2_17_x86_64.manylinux2014_x86_64.whl (15.9 MB)\n",
            "\u001b[2K     \u001b[90m━━━━━━━━━━━━━━━━━━━━━━━━━━━━━━━━━━━━━━━━\u001b[0m \u001b[32m15.9/15.9 MB\u001b[0m \u001b[31m36.6 MB/s\u001b[0m eta \u001b[36m0:00:00\u001b[0m\n",
            "\u001b[?25hRequirement already satisfied: requests in /usr/local/lib/python3.10/dist-packages (from tf2onnx) (2.31.0)\n",
            "Requirement already satisfied: six in /usr/local/lib/python3.10/dist-packages (from tf2onnx) (1.16.0)\n",
            "Requirement already satisfied: flatbuffers>=1.12 in /usr/local/lib/python3.10/dist-packages (from tf2onnx) (24.3.25)\n",
            "Requirement already satisfied: protobuf~=3.20 in /usr/local/lib/python3.10/dist-packages (from tf2onnx) (3.20.3)\n",
            "Requirement already satisfied: charset-normalizer<4,>=2 in /usr/local/lib/python3.10/dist-packages (from requests->tf2onnx) (3.3.2)\n",
            "Requirement already satisfied: idna<4,>=2.5 in /usr/local/lib/python3.10/dist-packages (from requests->tf2onnx) (3.7)\n",
            "Requirement already satisfied: urllib3<3,>=1.21.1 in /usr/local/lib/python3.10/dist-packages (from requests->tf2onnx) (2.0.7)\n",
            "Requirement already satisfied: certifi>=2017.4.17 in /usr/local/lib/python3.10/dist-packages (from requests->tf2onnx) (2024.7.4)\n",
            "Installing collected packages: onnx, tf2onnx\n",
            "Successfully installed onnx-1.16.1 tf2onnx-1.16.1\n",
            "Collecting onnxruntime\n",
            "  Downloading onnxruntime-1.18.1-cp310-cp310-manylinux_2_27_x86_64.manylinux_2_28_x86_64.whl (6.8 MB)\n",
            "\u001b[2K     \u001b[90m━━━━━━━━━━━━━━━━━━━━━━━━━━━━━━━━━━━━━━━━\u001b[0m \u001b[32m6.8/6.8 MB\u001b[0m \u001b[31m32.8 MB/s\u001b[0m eta \u001b[36m0:00:00\u001b[0m\n",
            "\u001b[?25hCollecting coloredlogs (from onnxruntime)\n",
            "  Downloading coloredlogs-15.0.1-py2.py3-none-any.whl (46 kB)\n",
            "\u001b[2K     \u001b[90m━━━━━━━━━━━━━━━━━━━━━━━━━━━━━━━━━━━━━━━━\u001b[0m \u001b[32m46.0/46.0 kB\u001b[0m \u001b[31m6.7 MB/s\u001b[0m eta \u001b[36m0:00:00\u001b[0m\n",
            "\u001b[?25hRequirement already satisfied: flatbuffers in /usr/local/lib/python3.10/dist-packages (from onnxruntime) (24.3.25)\n",
            "Requirement already satisfied: numpy<2.0,>=1.21.6 in /usr/local/lib/python3.10/dist-packages (from onnxruntime) (1.25.2)\n",
            "Requirement already satisfied: packaging in /usr/local/lib/python3.10/dist-packages (from onnxruntime) (24.1)\n",
            "Requirement already satisfied: protobuf in /usr/local/lib/python3.10/dist-packages (from onnxruntime) (3.20.3)\n",
            "Requirement already satisfied: sympy in /usr/local/lib/python3.10/dist-packages (from onnxruntime) (1.13.0)\n",
            "Collecting humanfriendly>=9.1 (from coloredlogs->onnxruntime)\n",
            "  Downloading humanfriendly-10.0-py2.py3-none-any.whl (86 kB)\n",
            "\u001b[2K     \u001b[90m━━━━━━━━━━━━━━━━━━━━━━━━━━━━━━━━━━━━━━━━\u001b[0m \u001b[32m86.8/86.8 kB\u001b[0m \u001b[31m14.7 MB/s\u001b[0m eta \u001b[36m0:00:00\u001b[0m\n",
            "\u001b[?25hRequirement already satisfied: mpmath<1.4,>=1.1.0 in /usr/local/lib/python3.10/dist-packages (from sympy->onnxruntime) (1.3.0)\n",
            "Installing collected packages: humanfriendly, coloredlogs, onnxruntime\n",
            "Successfully installed coloredlogs-15.0.1 humanfriendly-10.0 onnxruntime-1.18.1\n"
          ]
        }
      ]
    },
    {
      "cell_type": "code",
      "source": [
        "!python -m tf2onnx.convert --saved-model custom_vit --output human-emotion-detection-custom-vit.onnx"
      ],
      "metadata": {
        "id": "eaYa_CaBMTGQ"
      },
      "execution_count": null,
      "outputs": []
    },
    {
      "cell_type": "code",
      "source": [],
      "metadata": {
        "id": "aprUy_isMS27"
      },
      "execution_count": null,
      "outputs": []
    },
    {
      "cell_type": "code",
      "source": [
        "!cp -r human-emotion-detection-vit-model gdrive/MyDrive/dl_models/"
      ],
      "metadata": {
        "id": "tbb7Ry8NMSz4"
      },
      "execution_count": null,
      "outputs": []
    },
    {
      "cell_type": "code",
      "source": [
        "!cp -r human-emotion-detection-tf-vit-model.onnx gdrive/MyDrive/dl_models/"
      ],
      "metadata": {
        "id": "oOIN62kiNov3"
      },
      "execution_count": null,
      "outputs": []
    },
    {
      "cell_type": "code",
      "source": [
        "wandb.finish()"
      ],
      "metadata": {
        "colab": {
          "base_uri": "https://localhost:8080/",
          "height": 104,
          "referenced_widgets": [
            "b591c89babf34b638f396a81f4504d86",
            "f0d020894f574ac09fd60955d03bedc4",
            "0971c0091f1a4a15af1de95b6a7330fc",
            "1b69a7051b6d4331b1369d8231565dbf",
            "9a07bbc56b4b4bf8b7bccee9535a306d",
            "c201b92da2384c9a986de91ed3f25d3a",
            "ac3dd5100bd744bca3367131426db660",
            "3f4edb31209543ba9cfd80c73b47de8b"
          ]
        },
        "id": "mCFQUSAQqnIZ",
        "outputId": "6f9d2aeb-8013-4b92-e46e-2c4a7fc5048d"
      },
      "execution_count": null,
      "outputs": [
        {
          "output_type": "display_data",
          "data": {
            "text/plain": [
              "VBox(children=(Label(value='0.151 MB of 0.162 MB uploaded\\r'), FloatProgress(value=0.933668774479732, max=1.0)…"
            ],
            "application/vnd.jupyter.widget-view+json": {
              "version_major": 2,
              "version_minor": 0,
              "model_id": "b591c89babf34b638f396a81f4504d86"
            }
          },
          "metadata": {}
        },
        {
          "output_type": "display_data",
          "data": {
            "text/plain": [
              "<IPython.core.display.HTML object>"
            ],
            "text/html": [
              " View run <strong style=\"color:#cdcd00\">earthy-totem-1</strong> at: <a href='https://wandb.ai/ibrahnengineer/ViT-Tuning-Human-Emotion-Detection/runs/zptur6nq' target=\"_blank\">https://wandb.ai/ibrahnengineer/ViT-Tuning-Human-Emotion-Detection/runs/zptur6nq</a><br/> View project at: <a href='https://wandb.ai/ibrahnengineer/ViT-Tuning-Human-Emotion-Detection' target=\"_blank\">https://wandb.ai/ibrahnengineer/ViT-Tuning-Human-Emotion-Detection</a><br/>Synced 5 W&B file(s), 1 media file(s), 0 artifact file(s) and 0 other file(s)"
            ]
          },
          "metadata": {}
        },
        {
          "output_type": "display_data",
          "data": {
            "text/plain": [
              "<IPython.core.display.HTML object>"
            ],
            "text/html": [
              "Find logs at: <code>./wandb/run-20240721_050101-zptur6nq/logs</code>"
            ]
          },
          "metadata": {}
        },
        {
          "output_type": "display_data",
          "data": {
            "text/plain": [
              "<IPython.core.display.HTML object>"
            ],
            "text/html": [
              "The new W&B backend becomes opt-out in version 0.18.0; try it out with `wandb.require(\"core\")`! See https://wandb.me/wandb-core for more information."
            ]
          },
          "metadata": {}
        }
      ]
    },
    {
      "cell_type": "code",
      "source": [],
      "metadata": {
        "id": "sJjnC5dLrOGq"
      },
      "execution_count": null,
      "outputs": []
    }
  ]
}