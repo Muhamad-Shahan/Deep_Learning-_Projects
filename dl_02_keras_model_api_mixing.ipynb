{
  "nbformat": 4,
  "nbformat_minor": 0,
  "metadata": {
    "colab": {
      "provenance": [],
      "authorship_tag": "ABX9TyO66rYn8mu1uuHK24DtxVy3",
      "include_colab_link": true
    },
    "kernelspec": {
      "name": "python3",
      "display_name": "Python 3"
    },
    "language_info": {
      "name": "python"
    }
  },
  "cells": [
    {
      "cell_type": "markdown",
      "metadata": {
        "id": "view-in-github",
        "colab_type": "text"
      },
      "source": [
        "<a href=\"https://colab.research.google.com/github/Ibrah-N/Deep-Learning-Projects-Computer-Vision/blob/main/dl_02_keras_model_api_mixing.ipynb\" target=\"_parent\"><img src=\"https://colab.research.google.com/assets/colab-badge.svg\" alt=\"Open In Colab\"/></a>"
      ]
    },
    {
      "cell_type": "markdown",
      "source": [
        "## Imports"
      ],
      "metadata": {
        "id": "fUPnxLjg--wW"
      }
    },
    {
      "cell_type": "code",
      "execution_count": 2,
      "metadata": {
        "id": "qZbiHg6b-zpm"
      },
      "outputs": [],
      "source": [
        "# import libraries\n",
        "\n",
        "import numpy as np\n",
        "import tensorflow as tf\n",
        "\n",
        "from tensorflow.keras.layers import Layer\n",
        "from tensorflow.keras.models import Model"
      ]
    },
    {
      "cell_type": "code",
      "source": [],
      "metadata": {
        "id": "uNPAY9Xa_Czs"
      },
      "execution_count": null,
      "outputs": []
    },
    {
      "cell_type": "markdown",
      "source": [
        "## Models"
      ],
      "metadata": {
        "id": "PDYv64zp_DJm"
      }
    },
    {
      "cell_type": "markdown",
      "source": [
        "### Functional API"
      ],
      "metadata": {
        "id": "aRfzuLMX_E-4"
      }
    },
    {
      "cell_type": "code",
      "source": [
        "# full function api model\n",
        "\n",
        "inputs = tf.keras.Input(shape=(224, 224, 3))\n",
        "x = tf.keras.layers.InputLayer(input_shape=(224, 224, 3))(inputs)\n",
        "\n",
        "x = tf.keras.layers.Conv2D(filters=64, kernel_size=3, activation='relu')(x)\n",
        "x = tf.keras.layers.Conv2D(filters=64, kernel_size=3, activation='relu')(x)\n",
        "x = tf.keras.layers.BatchNormalization()(x)\n",
        "\n",
        "x = tf.keras.layers.Conv2D(filters=32, kernel_size=3, activation='relu')(x)\n",
        "x = tf.keras.layers.Conv2D(filters=32, kernel_size=3, activation='relu')(x)\n",
        "x = tf.keras.layers.BatchNormalization()(x)\n",
        "\n",
        "x = tf.keras.layers.MaxPool2D(pool_size=2)(x)\n",
        "x = tf.keras.layers.Conv2D(filters=16, kernel_size=3, activation='relu')(x)\n",
        "x = tf.keras.layers.Conv2D(filters=16, kernel_size=3, activation='relu')(x)\n",
        "x = tf.keras.layers.BatchNormalization()(x)\n",
        "\n",
        "\n",
        "x = tf.keras.layers.Flatten()(x)\n",
        "x = tf.keras.layers.Dense(units=1000, activation='relu')(x)\n",
        "x = tf.keras.layers.Dense(units=100, activation='relu')(x)\n",
        "x = tf.keras.layers.BatchNormalization()(x)\n",
        "x = tf.keras.layers.Dense(units=10, activation='relu')(x)\n",
        "outputs = tf.keras.layers.Dense(units=1, activation='sigmoid')(x)\n",
        "\n",
        "full_func_model = Model(inputs=inputs, outputs=outputs)\n",
        "full_func_model.summary()"
      ],
      "metadata": {
        "colab": {
          "base_uri": "https://localhost:8080/"
        },
        "id": "BazvnB_p_CwY",
        "outputId": "e08a0b68-51f8-404d-9792-161174fd2367"
      },
      "execution_count": 3,
      "outputs": [
        {
          "output_type": "stream",
          "name": "stdout",
          "text": [
            "Model: \"model\"\n",
            "_________________________________________________________________\n",
            " Layer (type)                Output Shape              Param #   \n",
            "=================================================================\n",
            " input_1 (InputLayer)        [(None, 224, 224, 3)]     0         \n",
            "                                                                 \n",
            " input_2 (InputLayer)        multiple                  0         \n",
            "                                                                 \n",
            " conv2d (Conv2D)             (None, 222, 222, 64)      1792      \n",
            "                                                                 \n",
            " conv2d_1 (Conv2D)           (None, 220, 220, 64)      36928     \n",
            "                                                                 \n",
            " batch_normalization (Batch  (None, 220, 220, 64)      256       \n",
            " Normalization)                                                  \n",
            "                                                                 \n",
            " conv2d_2 (Conv2D)           (None, 218, 218, 32)      18464     \n",
            "                                                                 \n",
            " conv2d_3 (Conv2D)           (None, 216, 216, 32)      9248      \n",
            "                                                                 \n",
            " batch_normalization_1 (Bat  (None, 216, 216, 32)      128       \n",
            " chNormalization)                                                \n",
            "                                                                 \n",
            " max_pooling2d (MaxPooling2  (None, 108, 108, 32)      0         \n",
            " D)                                                              \n",
            "                                                                 \n",
            " conv2d_4 (Conv2D)           (None, 106, 106, 16)      4624      \n",
            "                                                                 \n",
            " conv2d_5 (Conv2D)           (None, 104, 104, 16)      2320      \n",
            "                                                                 \n",
            " batch_normalization_2 (Bat  (None, 104, 104, 16)      64        \n",
            " chNormalization)                                                \n",
            "                                                                 \n",
            " flatten (Flatten)           (None, 173056)            0         \n",
            "                                                                 \n",
            " dense (Dense)               (None, 1000)              173057000 \n",
            "                                                                 \n",
            " dense_1 (Dense)             (None, 100)               100100    \n",
            "                                                                 \n",
            " batch_normalization_3 (Bat  (None, 100)               400       \n",
            " chNormalization)                                                \n",
            "                                                                 \n",
            " dense_2 (Dense)             (None, 10)                1010      \n",
            "                                                                 \n",
            " dense_3 (Dense)             (None, 1)                 11        \n",
            "                                                                 \n",
            "=================================================================\n",
            "Total params: 173232345 (660.83 MB)\n",
            "Trainable params: 173231921 (660.83 MB)\n",
            "Non-trainable params: 424 (1.66 KB)\n",
            "_________________________________________________________________\n"
          ]
        }
      ]
    },
    {
      "cell_type": "code",
      "source": [
        "# seperate functional models\n",
        "# 1.1 feature extracter\n",
        "# 1.2 classifier\n",
        "\n",
        "\n",
        "ex_inputs = tf.keras.Input(shape=(224, 224, 3))\n",
        "x = tf.keras.layers.InputLayer(input_shape=(224, 224, 3))(ex_inputs)\n",
        "\n",
        "x = tf.keras.layers.Conv2D(filters=64, kernel_size=3, activation='relu')(x)\n",
        "x = tf.keras.layers.Conv2D(filters=64, kernel_size=3, activation='relu')(x)\n",
        "x = tf.keras.layers.BatchNormalization()(x)\n",
        "\n",
        "x = tf.keras.layers.Conv2D(filters=32, kernel_size=3, activation='relu')(x)\n",
        "x = tf.keras.layers.Conv2D(filters=32, kernel_size=3, activation='relu')(x)\n",
        "x = tf.keras.layers.BatchNormalization()(x)\n",
        "\n",
        "x = tf.keras.layers.MaxPool2D(pool_size=2)(x)\n",
        "x = tf.keras.layers.Conv2D(filters=16, kernel_size=3, activation='relu')(x)\n",
        "x = tf.keras.layers.Conv2D(filters=16, kernel_size=3, activation='relu')(x)\n",
        "x = tf.keras.layers.BatchNormalization()(x)\n",
        "\n",
        "ex_outputs = tf.keras.layers.Flatten()(x)\n",
        "feature_extracter_func_model = Model(inputs=ex_inputs, outputs=ex_outputs)\n",
        "\n",
        "\n",
        "\n",
        "# classifier model\n",
        "x = feature_extracter_func_model.output\n",
        "x = tf.keras.layers.Dense(units=1000, activation='relu')(x)\n",
        "x = tf.keras.layers.Dense(units=100, activation='relu')(x)\n",
        "x = tf.keras.layers.BatchNormalization()(x)\n",
        "x = tf.keras.layers.Dense(units=10, activation='relu')(x)\n",
        "cls_outputs = tf.keras.layers.Dense(units=1, activation='sigmoid')(x)\n",
        "classifier_func_model = Model(inputs=ex_inputs, outputs=cls_outputs)\n",
        "classifier_func_model.summary()"
      ],
      "metadata": {
        "colab": {
          "base_uri": "https://localhost:8080/"
        },
        "id": "qbOCXb_0_IKb",
        "outputId": "d89d341d-f1b8-4b5a-b8eb-79527998ce12"
      },
      "execution_count": 10,
      "outputs": [
        {
          "output_type": "stream",
          "name": "stdout",
          "text": [
            "Model: \"model_8\"\n",
            "_________________________________________________________________\n",
            " Layer (type)                Output Shape              Param #   \n",
            "=================================================================\n",
            " input_12 (InputLayer)       [(None, 224, 224, 3)]     0         \n",
            "                                                                 \n",
            " input_13 (InputLayer)       multiple                  0         \n",
            "                                                                 \n",
            " conv2d_30 (Conv2D)          (None, 222, 222, 64)      1792      \n",
            "                                                                 \n",
            " conv2d_31 (Conv2D)          (None, 220, 220, 64)      36928     \n",
            "                                                                 \n",
            " batch_normalization_18 (Ba  (None, 220, 220, 64)      256       \n",
            " tchNormalization)                                               \n",
            "                                                                 \n",
            " conv2d_32 (Conv2D)          (None, 218, 218, 32)      18464     \n",
            "                                                                 \n",
            " conv2d_33 (Conv2D)          (None, 216, 216, 32)      9248      \n",
            "                                                                 \n",
            " batch_normalization_19 (Ba  (None, 216, 216, 32)      128       \n",
            " tchNormalization)                                               \n",
            "                                                                 \n",
            " max_pooling2d_5 (MaxPoolin  (None, 108, 108, 32)      0         \n",
            " g2D)                                                            \n",
            "                                                                 \n",
            " conv2d_34 (Conv2D)          (None, 106, 106, 16)      4624      \n",
            "                                                                 \n",
            " conv2d_35 (Conv2D)          (None, 104, 104, 16)      2320      \n",
            "                                                                 \n",
            " batch_normalization_20 (Ba  (None, 104, 104, 16)      64        \n",
            " tchNormalization)                                               \n",
            "                                                                 \n",
            " flatten_5 (Flatten)         (None, 173056)            0         \n",
            "                                                                 \n",
            " dense_12 (Dense)            (None, 1000)              173057000 \n",
            "                                                                 \n",
            " dense_13 (Dense)            (None, 100)               100100    \n",
            "                                                                 \n",
            " batch_normalization_21 (Ba  (None, 100)               400       \n",
            " tchNormalization)                                               \n",
            "                                                                 \n",
            " dense_14 (Dense)            (None, 10)                1010      \n",
            "                                                                 \n",
            " dense_15 (Dense)            (None, 1)                 11        \n",
            "                                                                 \n",
            "=================================================================\n",
            "Total params: 173232345 (660.83 MB)\n",
            "Trainable params: 173231921 (660.83 MB)\n",
            "Non-trainable params: 424 (1.66 KB)\n",
            "_________________________________________________________________\n"
          ]
        }
      ]
    },
    {
      "cell_type": "code",
      "source": [],
      "metadata": {
        "id": "Sqoc2zdk_Ic6"
      },
      "execution_count": null,
      "outputs": []
    },
    {
      "cell_type": "markdown",
      "source": [
        "### Sequential API"
      ],
      "metadata": {
        "id": "IXiHrwmb_I7Q"
      }
    },
    {
      "cell_type": "code",
      "source": [
        "# Full Sequential Model API\n",
        "\n",
        "\n",
        "full_seq_model = tf.keras.Sequential([\n",
        "\n",
        "      tf.keras.layers.InputLayer(input_shape=(224, 224, 3)),\n",
        "\n",
        "      tf.keras.layers.Conv2D(filters=64, kernel_size=3, activation='relu'),\n",
        "      tf.keras.layers.Conv2D(filters=64, kernel_size=3, activation='relu'),\n",
        "      tf.keras.layers.BatchNormalization(),\n",
        "\n",
        "      tf.keras.layers.Conv2D(filters=32, kernel_size=3, activation='relu'),\n",
        "      tf.keras.layers.Conv2D(filters=32, kernel_size=3, activation='relu'),\n",
        "      tf.keras.layers.BatchNormalization(),\n",
        "\n",
        "      tf.keras.layers.MaxPool2D(pool_size=2),\n",
        "\n",
        "      tf.keras.layers.Conv2D(filters=16, kernel_size=3, activation='relu'),\n",
        "      tf.keras.layers.Conv2D(filters=16, kernel_size=3, activation='relu'),\n",
        "      tf.keras.layers.BatchNormalization(),\n",
        "\n",
        "\n",
        "      tf.keras.layers.Flatten(),\n",
        "\n",
        "      tf.keras.layers.Dense(units=1000, activation='relu'),\n",
        "      tf.keras.layers.Dense(units=100, activation='relu'),\n",
        "      tf.keras.layers.BatchNormalization(),\n",
        "      tf.keras.layers.Dense(units=10, activation='relu'),\n",
        "      tf.keras.layers.Dense(units=1, activation='sigmoid')\n",
        "])\n",
        "full_seq_model.summary()"
      ],
      "metadata": {
        "colab": {
          "base_uri": "https://localhost:8080/"
        },
        "id": "W6bX8pub_L6V",
        "outputId": "c1001125-0b62-46a5-bb7c-728dd2a15e0a"
      },
      "execution_count": 16,
      "outputs": [
        {
          "output_type": "stream",
          "name": "stdout",
          "text": [
            "Model: \"sequential_7\"\n",
            "_________________________________________________________________\n",
            " Layer (type)                Output Shape              Param #   \n",
            "=================================================================\n",
            " conv2d_60 (Conv2D)          (None, 222, 222, 64)      1792      \n",
            "                                                                 \n",
            " conv2d_61 (Conv2D)          (None, 220, 220, 64)      36928     \n",
            "                                                                 \n",
            " batch_normalization_38 (Ba  (None, 220, 220, 64)      256       \n",
            " tchNormalization)                                               \n",
            "                                                                 \n",
            " conv2d_62 (Conv2D)          (None, 218, 218, 32)      18464     \n",
            "                                                                 \n",
            " conv2d_63 (Conv2D)          (None, 216, 216, 32)      9248      \n",
            "                                                                 \n",
            " batch_normalization_39 (Ba  (None, 216, 216, 32)      128       \n",
            " tchNormalization)                                               \n",
            "                                                                 \n",
            " max_pooling2d_10 (MaxPooli  (None, 108, 108, 32)      0         \n",
            " ng2D)                                                           \n",
            "                                                                 \n",
            " conv2d_64 (Conv2D)          (None, 106, 106, 16)      4624      \n",
            "                                                                 \n",
            " conv2d_65 (Conv2D)          (None, 104, 104, 16)      2320      \n",
            "                                                                 \n",
            " batch_normalization_40 (Ba  (None, 104, 104, 16)      64        \n",
            " tchNormalization)                                               \n",
            "                                                                 \n",
            " flatten_10 (Flatten)        (None, 173056)            0         \n",
            "                                                                 \n",
            " dense_28 (Dense)            (None, 1000)              173057000 \n",
            "                                                                 \n",
            " dense_29 (Dense)            (None, 100)               100100    \n",
            "                                                                 \n",
            " batch_normalization_41 (Ba  (None, 100)               400       \n",
            " tchNormalization)                                               \n",
            "                                                                 \n",
            " dense_30 (Dense)            (None, 10)                1010      \n",
            "                                                                 \n",
            " dense_31 (Dense)            (None, 1)                 11        \n",
            "                                                                 \n",
            "=================================================================\n",
            "Total params: 173232345 (660.83 MB)\n",
            "Trainable params: 173231921 (660.83 MB)\n",
            "Non-trainable params: 424 (1.66 KB)\n",
            "_________________________________________________________________\n"
          ]
        }
      ]
    },
    {
      "cell_type": "code",
      "source": [
        "# seperate Sequentail API Models\n",
        "# feature Extracter model\n",
        "# classifier model\n",
        "\n",
        "# model architecture\n",
        "\n",
        "feature_extracter_seq_model = tf.keras.Sequential([\n",
        "\n",
        "      tf.keras.layers.InputLayer(input_shape=(224, 224, 3)),\n",
        "\n",
        "      tf.keras.layers.Conv2D(filters=64, kernel_size=3, activation='relu'),\n",
        "      tf.keras.layers.Conv2D(filters=64, kernel_size=3, activation='relu'),\n",
        "      tf.keras.layers.BatchNormalization(),\n",
        "\n",
        "      tf.keras.layers.Conv2D(filters=32, kernel_size=3, activation='relu'),\n",
        "      tf.keras.layers.Conv2D(filters=32, kernel_size=3, activation='relu'),\n",
        "      tf.keras.layers.BatchNormalization(),\n",
        "\n",
        "      tf.keras.layers.MaxPool2D(pool_size=2),\n",
        "\n",
        "      tf.keras.layers.Conv2D(filters=16, kernel_size=3, activation='relu'),\n",
        "      tf.keras.layers.Conv2D(filters=16, kernel_size=3, activation='relu'),\n",
        "      tf.keras.layers.BatchNormalization(),\n",
        "      tf.keras.layers.Flatten(),\n",
        "])\n",
        "\n",
        "\n",
        "classifier_seq_model = tf.keras.Sequential([\n",
        "\n",
        "      feature_extracter_seq_model,\n",
        "      # tf.keras.layers.Dense(units=1000, activation='relu'),\n",
        "      tf.keras.layers.Dense(units=100, activation='relu'),\n",
        "      tf.keras.layers.BatchNormalization(),\n",
        "      tf.keras.layers.Dense(units=10, activation='relu'),\n",
        "      tf.keras.layers.Dense(units=1, activation='sigmoid')\n",
        "])\n",
        "classifier_seq_model(tf.zeros([1, 224, 224, 3]))\n",
        "classifier_seq_model.summary()"
      ],
      "metadata": {
        "colab": {
          "base_uri": "https://localhost:8080/"
        },
        "id": "U_DzlYQd_Mqk",
        "outputId": "d74f226e-a3fc-48e7-c833-26392a6be6e6"
      },
      "execution_count": 15,
      "outputs": [
        {
          "output_type": "stream",
          "name": "stdout",
          "text": [
            "Model: \"sequential_6\"\n",
            "_________________________________________________________________\n",
            " Layer (type)                Output Shape              Param #   \n",
            "=================================================================\n",
            " sequential_5 (Sequential)   (None, 173056)            73824     \n",
            "                                                                 \n",
            " dense_25 (Dense)            (1, 100)                  17305700  \n",
            "                                                                 \n",
            " batch_normalization_37 (Ba  (1, 100)                  400       \n",
            " tchNormalization)                                               \n",
            "                                                                 \n",
            " dense_26 (Dense)            (1, 10)                   1010      \n",
            "                                                                 \n",
            " dense_27 (Dense)            (1, 1)                    11        \n",
            "                                                                 \n",
            "=================================================================\n",
            "Total params: 17380945 (66.30 MB)\n",
            "Trainable params: 17380521 (66.30 MB)\n",
            "Non-trainable params: 424 (1.66 KB)\n",
            "_________________________________________________________________\n"
          ]
        }
      ]
    },
    {
      "cell_type": "code",
      "source": [],
      "metadata": {
        "id": "Xe-6A-T7_Mnm"
      },
      "execution_count": null,
      "outputs": []
    },
    {
      "cell_type": "markdown",
      "source": [
        "### Model Sub classes"
      ],
      "metadata": {
        "id": "20MbZXZP_NFm"
      }
    },
    {
      "cell_type": "code",
      "source": [
        "# Full Sub Class Model\n",
        "\n",
        "class SubClassModel(Model):\n",
        "  def __init__(self):\n",
        "    super(SubClassModel, self).__init__()\n",
        "\n",
        "    self.inputs = tf.keras.layers.InputLayer(input_shape=(224, 224, 3))\n",
        "\n",
        "    self.conv_1 = tf.keras.layers.Conv2D(filters=64, kernel_size=3, activation='relu')\n",
        "    self.conv_2 = tf.keras.layers.Conv2D(filters=64, kernel_size=3, activation='relu')\n",
        "    self.batch_norm_1 = tf.keras.layers.BatchNormalization()\n",
        "\n",
        "    self.conv_3 = tf.keras.layers.Conv2D(filters=32, kernel_size=3, activation='relu')\n",
        "    self.conv_4 = tf.keras.layers.Conv2D(filters=32, kernel_size=3, activation='relu')\n",
        "    self.batch_norm_2 = tf.keras.layers.BatchNormalization()\n",
        "    self.max_pool_1 = tf.keras.layers.MaxPool2D(pool_size=2)\n",
        "\n",
        "    self.conv_5 = tf.keras.layers.Conv2D(filters=16, kernel_size=3, activation='relu')\n",
        "    self.conv_6 = tf.keras.layers.Conv2D(filters=16, kernel_size=3, activation='relu')\n",
        "    self.batch_norm_3 = tf.keras.layers.BatchNormalization()\n",
        "\n",
        "    self.flatten_1 = tf.keras.layers.Flatten()\n",
        "    self.dense_1 = tf.keras.layers.Dense(units=1000, activation='relu')\n",
        "    self.dense_2 = tf.keras.layers.Dense(units=100, activation='relu')\n",
        "    self.batch_norm_4 = tf.keras.layers.BatchNormalization()\n",
        "    self.dense_3 = tf.keras.layers.Dense(units=10, activation='relu')\n",
        "    self.dense_4 = tf.keras.layers.Dense(units=1, activation='sigmoid')\n",
        "\n",
        "  def call(self, x, training=True):\n",
        "    x = self.inputs(x)\n",
        "    x = self.conv_1(x)\n",
        "    x = self.conv_2(x)\n",
        "    x = self.batch_norm_1(x)\n",
        "    x = self.conv_3(x)\n",
        "    x = self.conv_4(x)\n",
        "    x = self.batch_norm_2(x)\n",
        "    x = self.max_pool_1(x)\n",
        "    x = self.conv_5(x)\n",
        "    x = self.conv_6(x)\n",
        "    x = self.batch_norm_3(x)\n",
        "    x = self.flatten_1(x)\n",
        "    x = self.dense_1(x)\n",
        "    x = self.dense_2(x)\n",
        "    x = self.batch_norm_4(x)\n",
        "    x = self.dense_3(x)\n",
        "    output = self.dense_4(x)\n",
        "\n",
        "    return output"
      ],
      "metadata": {
        "id": "CJeoCEDl_P0A"
      },
      "execution_count": 37,
      "outputs": []
    },
    {
      "cell_type": "code",
      "source": [
        "sub_class_model = SubClassModel()\n",
        "sub_class_model(tf.zeros([1, 224, 224, 3]))\n",
        "sub_class_model.summary()"
      ],
      "metadata": {
        "colab": {
          "base_uri": "https://localhost:8080/"
        },
        "id": "AN8gpVGSICLg",
        "outputId": "b3d5091f-4563-4c3a-d5c1-79d5f577dee9"
      },
      "execution_count": 38,
      "outputs": [
        {
          "output_type": "stream",
          "name": "stdout",
          "text": [
            "Model: \"sub_class_model_11\"\n",
            "_________________________________________________________________\n",
            " Layer (type)                Output Shape              Param #   \n",
            "=================================================================\n",
            " input_30 (InputLayer)       [(None, 224, 224, 3)]     0         \n",
            "                                                                 \n",
            " conv2d_132 (Conv2D)         multiple                  1792      \n",
            "                                                                 \n",
            " conv2d_133 (Conv2D)         multiple                  36928     \n",
            "                                                                 \n",
            " batch_normalization_81 (Ba  multiple                  256       \n",
            " tchNormalization)                                               \n",
            "                                                                 \n",
            " conv2d_134 (Conv2D)         multiple                  18464     \n",
            "                                                                 \n",
            " conv2d_135 (Conv2D)         multiple                  9248      \n",
            "                                                                 \n",
            " batch_normalization_82 (Ba  multiple                  128       \n",
            " tchNormalization)                                               \n",
            "                                                                 \n",
            " max_pooling2d_22 (MaxPooli  multiple                  0         \n",
            " ng2D)                                                           \n",
            "                                                                 \n",
            " conv2d_136 (Conv2D)         multiple                  4624      \n",
            "                                                                 \n",
            " conv2d_137 (Conv2D)         multiple                  2320      \n",
            "                                                                 \n",
            " batch_normalization_83 (Ba  multiple                  64        \n",
            " tchNormalization)                                               \n",
            "                                                                 \n",
            " flatten_17 (Flatten)        multiple                  0         \n",
            "                                                                 \n",
            " dense_76 (Dense)            multiple                  173057000 \n",
            "                                                                 \n",
            " dense_77 (Dense)            multiple                  100100    \n",
            "                                                                 \n",
            " batch_normalization_84 (Ba  multiple                  400       \n",
            " tchNormalization)                                               \n",
            "                                                                 \n",
            " dense_78 (Dense)            multiple                  1010      \n",
            "                                                                 \n",
            " dense_79 (Dense)            multiple                  11        \n",
            "                                                                 \n",
            "=================================================================\n",
            "Total params: 173232345 (660.83 MB)\n",
            "Trainable params: 173231921 (660.83 MB)\n",
            "Non-trainable params: 424 (1.66 KB)\n",
            "_________________________________________________________________\n"
          ]
        }
      ]
    },
    {
      "cell_type": "code",
      "source": [
        "# Sub Class Feature Extracter\n",
        "\n",
        "class FeatureExtracter(Layer):\n",
        "  def __init__(self):\n",
        "    super(FeatureExtracter, self).__init__()\n",
        "\n",
        "    self.inputs = tf.keras.layers.InputLayer(input_shape=(224, 224, 3))\n",
        "\n",
        "    self.conv_1 = tf.keras.layers.Conv2D(filters=64, kernel_size=3, activation='relu')\n",
        "    self.conv_2 = tf.keras.layers.Conv2D(filters=64, kernel_size=3, activation='relu')\n",
        "    self.batch_norm_1 = tf.keras.layers.BatchNormalization()\n",
        "\n",
        "    self.conv_3 = tf.keras.layers.Conv2D(filters=32, kernel_size=3, activation='relu')\n",
        "    self.conv_4 = tf.keras.layers.Conv2D(filters=32, kernel_size=3, activation='relu')\n",
        "    self.batch_norm_2 = tf.keras.layers.BatchNormalization()\n",
        "    self.max_pool_1 = tf.keras.layers.MaxPool2D(pool_size=2)\n",
        "\n",
        "    self.conv_5 = tf.keras.layers.Conv2D(filters=16, kernel_size=3, activation='relu')\n",
        "    self.conv_6 = tf.keras.layers.Conv2D(filters=16, kernel_size=3, activation='relu')\n",
        "    self.batch_norm_3 = tf.keras.layers.BatchNormalization()\n",
        "    self.flatten_1 = tf.keras.layers.Flatten()\n",
        "\n",
        "\n",
        "  def call(self, x, training=True):\n",
        "    x = self.inputs(x)\n",
        "    x = self.conv_1(x)\n",
        "    x = self.conv_2(x)\n",
        "    x = self.batch_norm_1(x)\n",
        "    x = self.conv_3(x)\n",
        "    x = self.conv_4(x)\n",
        "    x = self.batch_norm_2(x)\n",
        "    x = self.max_pool_1(x)\n",
        "    x = self.conv_5(x)\n",
        "    x = self.conv_6(x)\n",
        "    x = self.batch_norm_3(x)\n",
        "    layer_output = self.flatten_1(x)\n",
        "    return layer_output"
      ],
      "metadata": {
        "id": "SJJ00i-nIMk4"
      },
      "execution_count": 39,
      "outputs": []
    },
    {
      "cell_type": "code",
      "source": [
        "# Classifier\n",
        "\n",
        "\n",
        "class ClassifierModel(Model):\n",
        "  def __init__(self):\n",
        "    super(ClassifierModel, self).__init__()\n",
        "    self.feature_extracter = FeatureExtracter()\n",
        "    self.dense_1 = tf.keras.layers.Dense(units=1000, activation='relu')\n",
        "    self.dense_2 = tf.keras.layers.Dense(units=100, activation='relu')\n",
        "    self.batch_norm_4 = tf.keras.layers.BatchNormalization()\n",
        "    self.dense_3 = tf.keras.layers.Dense(units=10, activation='relu')\n",
        "    self.dense_4 = tf.keras.layers.Dense(units=1, activation='sigmoid')\n",
        "\n",
        "\n",
        "  def call(self, x, training=True):\n",
        "    x = self.feature_extracter(x)\n",
        "    x = self.dense_1(x)\n",
        "    x = self.dense_2(x)\n",
        "    x = self.batch_norm_4(x)\n",
        "    x = self.dense_3(x)\n",
        "    output = self.dense_4(x)"
      ],
      "metadata": {
        "id": "W26WiQi8L6dD"
      },
      "execution_count": 42,
      "outputs": []
    },
    {
      "cell_type": "code",
      "source": [
        "classifier_model = ClassifierModel()\n",
        "classifier_model(tf.zeros([1, 224, 224, 3]))\n",
        "classifier_model.summary()"
      ],
      "metadata": {
        "colab": {
          "base_uri": "https://localhost:8080/"
        },
        "id": "NFQBf2_rMal-",
        "outputId": "70ed5cee-026d-42b9-c24e-48023ea181d1"
      },
      "execution_count": 43,
      "outputs": [
        {
          "output_type": "stream",
          "name": "stdout",
          "text": [
            "Model: \"classifier_model_1\"\n",
            "_________________________________________________________________\n",
            " Layer (type)                Output Shape              Param #   \n",
            "=================================================================\n",
            " feature_extracter_1 (Featu  multiple                  73824     \n",
            " reExtracter)                                                    \n",
            "                                                                 \n",
            " dense_84 (Dense)            multiple                  173057000 \n",
            "                                                                 \n",
            " dense_85 (Dense)            multiple                  100100    \n",
            "                                                                 \n",
            " batch_normalization_92 (Ba  multiple                  400       \n",
            " tchNormalization)                                               \n",
            "                                                                 \n",
            " dense_86 (Dense)            multiple                  1010      \n",
            "                                                                 \n",
            " dense_87 (Dense)            multiple                  11        \n",
            "                                                                 \n",
            "=================================================================\n",
            "Total params: 173232345 (660.83 MB)\n",
            "Trainable params: 173231921 (660.83 MB)\n",
            "Non-trainable params: 424 (1.66 KB)\n",
            "_________________________________________________________________\n"
          ]
        }
      ]
    },
    {
      "cell_type": "code",
      "source": [],
      "metadata": {
        "id": "HT_L1ALeMgvX"
      },
      "execution_count": null,
      "outputs": []
    },
    {
      "cell_type": "markdown",
      "source": [
        "### Custom Dense Layer"
      ],
      "metadata": {
        "id": "79QrY8yqMqO5"
      }
    },
    {
      "cell_type": "code",
      "source": [
        "class IbrahDense():\n",
        "  def __init(self, units, activation=None):"
      ],
      "metadata": {
        "id": "X00jRya4MsrV"
      },
      "execution_count": null,
      "outputs": []
    }
  ]
}